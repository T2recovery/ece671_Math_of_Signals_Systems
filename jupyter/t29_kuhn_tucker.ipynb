{
 "cells": [
  {
   "cell_type": "markdown",
   "metadata": {},
   "source": [
    "[Table of Contents](table_of_contents.ipynb)"
   ]
  },
  {
   "cell_type": "markdown",
   "metadata": {},
   "source": [
    "# Topic 29.  Kuhn Tucker Conditions\n",
    "Author: Jenna Newcomb; jennewcomb178@gmail.com\n",
    "    "
   ]
  },
  {
   "cell_type": "markdown",
   "metadata": {},
   "source": [
    "##  Introduction\n",
    "The Kuhn Tucker Conditions, commonly known as the KKT conditions, are a set of requirements in nonlinear programming necessary for a point to be optimal. This approach allows inequality constraints by generalizing the method of Lagrange Multipliers. It finds the optimum for a function with both equality and inequality constraints by using a single cost function that encompasses the cost as well as the equality and inequality constraints. The equality constraints are multiplied by a Lagrange multiplier vector $\\lambda$. The inequality constraints are multiplied by a Lagrange multiplier vector $\\mu$. As seen previously, for equality constraints we differentiate the objective function with respect to $\\lambda$ as well as the x variables to solve for all x and $\\lambda$ variables. Thus, the solution is restricted to that which meets the necessities of the equality constraints. However, inequality constraints are more difficult since we have to determine which ones are \"active.\" For example, when the overall optimum solution already is within the bounds set by that inequality constraint, we term that constrain \"non-active\" and its Lagrange multiplier, $\\mu_i$, is set to zero. However, if the inequality constraint is active, or in other words, the solution lies at the constraint boundary, then that constraint is set so $g(x^*) = 0$ and the constraint is then solved in a process like the equality constraints. The examples below illustrate this process. In addition, the $\\mu$ multipliers can only be less than or equal to zero. The reasoning behind this is explained below."
   ]
  },
  {
   "cell_type": "markdown",
   "metadata": {},
   "source": [
    "## Explanation of the theory\n",
    "\n",
    "Suppose you have the problem:\n",
    "\n",
    "<center>$\\text{minimize}\\;\\; f(x)$<br>\n",
    " $\\;\\;\\;\\;\\;\\;\\text{subject to} \\;\\;h(x) = 0$\n",
    " $$\\;\\;\\;\\;\\;\\;\\;\\;\\;\\;\\;\\;\\;\\;\\;\\;\\;\\;\\;\\;g(x) \\le 0 $$</center>\n",
    "\n",
    "Allowing $x^*$ to be a local minimum, then there is a Lagrange muliplier $\\lambda$, that applies to the equality constraints, and $\\mu$, that applies to the inequality constraints, such that\n",
    " $$\\mu \\ge 0$$\n",
    " and\n",
    " $$g(x^*)^T\\mu = 0$$\n",
    " $$ \\nabla f(x^*) + \\nabla h(x^*)\\lambda + \\nabla g(x^*)\\mu = 0$$\n",
    " To see why $\\mu \\ge 0$ consider when an inequality constraint is active:\n",
    " $$ \\nabla f(x) + \\mu\\nabla g(x) = 0$$\n",
    " $$ \\mu = -\\frac{\\nabla f(x)}{\\nabla g(x)}$$\n",
    " At an optimum point with an active constraint, the gradient of the objective function ($\\nabla f(x)$) and the gradient of the constraint ($\\nabla g(x)$) are in opposite directions. Thus, from the above equation, $\\mu$ must be positive. <br>\n",
    "To see why $\\mu$ must be zero for non-active constraints, consider:\n",
    "$$g(x^*)^T\\mu = 0$$\n",
    "Then since $g_i(x)<0$ for a non-active constraint, $\\mu$ must be zero to make the above equation true."
   ]
  },
  {
   "cell_type": "markdown",
   "metadata": {},
   "source": [
    "## Simple Numerical Examples\n",
    "\n",
    "We will start with an easy example and progress to a more difficult example. This does not involve the KKT conditions but is a good intro to Lagrange multipliers and optimal conditions.\n",
    "For the first example suppose you have the problem with one equality constraint. A graphic of the problem is plotted below.\n",
    "<center>$\\text{minimize}\\;\\; f(x) = x_1+x_2$<br>\n",
    " $\\;\\;\\;\\;\\;\\;\\;\\;\\;\\;\\;\\;\\text{subject to} \\;\\; h(x) = x_1^2 + x_2^2 - 8 = 0 $<br></center>\n",
    " The necessary conditions are thus\n",
    " $$1 + 2\\lambda x_1 = 0 $$\n",
    " $$ 1 + 2\\lambda x_2 = 0 $$\n",
    " $$ \\lambda(x_1^2+x_2^2-8) = 0 $$\n",
    " \n",
    " solving these we get:\n",
    " $$x_1 = -\\frac{1}{2\\lambda}$$\n",
    " $$x_2 =-\\frac{1}{2\\lambda}$$\n",
    " $$-\\frac{1}{2\\lambda}^2+-\\frac{1}{2\\lambda}^2-8=0 $$\n",
    " $$\\lambda = \\pm\\frac{1}{4}$$\n",
    " $$x_1 =x_2= \\pm{2}$$\n",
    " To know which point is a minimum, we apply the second-order conditions. \n",
    " A positive-definite Hessian occurs when $\\lambda = -\\frac{1}{4}$ and thus the minimum is (-2,-2)."
   ]
  },
  {
   "cell_type": "code",
   "execution_count": 58,
   "metadata": {
    "scrolled": true
   },
   "outputs": [
    {
     "data": {
      "image/png": "[encoded data removed]",
      "text/plain": [
       "<matplotlib.figure.Figure at 0x10a154a10>"
      ]
     },
     "metadata": {},
     "output_type": "display_data"
    }
   ],
   "source": [
    "import matplotlib.pyplot as plt\n",
    "import numpy as np\n",
    "import math\n",
    "import matplotlib.cm as cm\n",
    "import matplotlib.mlab as mlab\n",
    "import matplotlib\n",
    "\n",
    "fig = plt.figure()\n",
    "ax = plt.axes()\n",
    "\n",
    "ax.set_aspect(1)\n",
    "theta = np.linspace(-np.pi, np.pi, 200)\n",
    "\n",
    "delta =1\n",
    "x = np.linspace(-3,3,7)\n",
    "y = np.linspace(-3,3,7)\n",
    "X, Y = np.meshgrid(x, y)\n",
    "Z = X+Y\n",
    "\n",
    "matplotlib.rcParams['contour.negative_linestyle'] = 'solid'\n",
    "plt.scatter([-2, 2],[-2, 2],s=90,c = 'b',zorder=3)\n",
    "plt.plot(math.sqrt(8)*np.sin(theta), math.sqrt(8)*np.cos(theta),'r',zorder=2)\n",
    "plt.contour(X, Y, Z,\n",
    "                6,\n",
    "                 colors='k',\n",
    "                zorder=1)\n",
    "\n",
    "\n",
    "plt.show()"
   ]
  },
  {
   "cell_type": "markdown",
   "metadata": {},
   "source": [
    "Moving on to a more difficult example where there are two inequality constraints consider the following optimization problem. The below plot illustrates the function(in black) and constraints (in red).\n",
    "<center>$\\;\\;\\;\\;\\;\\;\\;\\;\\;\\text{minimize}\\;\\; f(x) = 2x_1^2+3x_2^2-2x_1x_2+x_2$<br>\n",
    " $\\text{subject to} \\;\\; h(x) = x_1^2 + x_2^2 - 8 \\le 0 $<br>\n",
    " $\\;\\;\\;\\;\\;\\;\\;\\;\\;\\;\\;\\;\\;\\;\\;\\;g(x) =\\;2x_1+x_2-5\\le0$\n",
    " </center>\n",
    " The necessary first order conditions are:\n",
    " <center> $$4x_1-2x_2+2\\mu_1 x_1+2\\mu_2 =0$$\n",
    " $$6x_2-2x_1+1+2\\mu_1 x_2 + \\mu_2 = 0 $$\n",
    " $$\\mu_1(x_1^2 + x_2^2 - 8)+\\mu_2(2x_1+x_2-5) = 0 $$\n",
    " $$\\mu_1\\ge 0 \\;\\;\\;\\;\\;\\;\\;\\; \\mu_2 \\ge 0 $$</center>\n",
    " We will now test different combinations of active and inactive constraints to see which solution is the optimum. <br>\n",
    " - __Both constraints are active__<br>\n",
    "  Looking at the below figure the points of intersection are\n",
    "  $$x_1 = 2.7746 \\;\\;\\;\\; \\text{and}\\;\\;\\; x_2 = -0.5492$$\n",
    "  and\n",
    "  $$x_1 = 1.2254\\;\\;\\;\\; \\text{and}\\;\\;\\;\\; x_2 = 2.5492$$\n",
    "  The solutions are $(\\mu_1,\\mu_2) =(-3.6,3.89016)$ and  $(\\mu_1,\\mu_2) =(-3.6,4.50984)$.\n",
    "  Each of these solutions does not satisfy $\\mu\\ge 0$\n",
    " - __$g_1$ is active, $g_2$ is inactive__ <br>\n",
    "This leads to the following equations:\n",
    "$$4x_1-2x_2+2\\mu_1 x_1 =0$$\n",
    " $$6x_2-2x_1+1+2\\mu_1 x_2 = 0 $$\n",
    " $$x_1^2 + x_2^2 - 8 = 8 $$\n",
    " There are four solutions, each one without satisfying $\\mu_1\\ge 0$\n",
    " - __$g_1$ is inactive, $g_2$ is active__ <br>\n",
    "  This gives the following equations:\n",
    "  $$4x_1-2x_2+2\\mu_2 = 0$$\n",
    "  $$6x_2-2x_1+1+\\mu_2 = 0$$\n",
    "  $$2x_1+x_2 = 5$$\n",
    "  Resulting in the following values:\n",
    "  $$x_1 = 2 \\;\\;\\;\\;\\;\\ x_2 = 1 \\;\\;\\;\\;\\; \\mu_2 =-3$$\n",
    " - Since none of these scenerios have $\\mu \\ge 0$, we set all the constraints to inactive which results in the following equations:\n",
    "$$4x_1-2x_2 =0$$\n",
    "\n",
    " $$6x_2-2x_1+1 = 0 $$\n",
    " resulting in the point $(x_1,x_2) = (-1/10,-1/5)$"
   ]
  },
  {
   "cell_type": "code",
   "execution_count": 69,
   "metadata": {},
   "outputs": [
    {
     "data": {
      "image/png": "[encoded data removed]",
      "text/plain": [
       "<matplotlib.figure.Figure at 0x10a8439d0>"
      ]
     },
     "metadata": {},
     "output_type": "display_data"
    }
   ],
   "source": [
    "import matplotlib.pyplot as plt\n",
    "import numpy as np\n",
    "import math\n",
    "import matplotlib.cm as cm\n",
    "import matplotlib.mlab as mlab\n",
    "import matplotlib\n",
    "\n",
    "fig = plt.figure()\n",
    "ax = plt.axes()\n",
    "\n",
    "ax.set_aspect(1)\n",
    "theta = np.linspace(-np.pi, np.pi, 200)\n",
    "\n",
    "delta =1\n",
    "x = np.linspace(-4,4,9)\n",
    "y = np.linspace(-4,4,9)\n",
    "X, Y = np.meshgrid(x, y)\n",
    "Z = 2*X**2+3*Y**2-2*X*Y+Y\n",
    "x1 = np.linspace(0.5,4,10)\n",
    "matplotlib.rcParams['contour.negative_linestyle'] = 'solid'\n",
    "plt.plot(x1,5-2*x1,'r',zorder =3)\n",
    "plt.plot(math.sqrt(8)*np.sin(theta), math.sqrt(8)*np.cos(theta),'r',zorder=2)\n",
    "plt.contour(X, Y, Z,\n",
    "                6,\n",
    "                 colors='k',\n",
    "                zorder=1)\n",
    "\n",
    "plt.scatter(-.1,-.2,s=90,c = 'b',zorder=3)\n",
    "plt.show()"
   ]
  },
  {
   "cell_type": "markdown",
   "metadata": {},
   "source": [
    "## An Engineering Application\n",
    "\n",
    "Suppose you were tasked with minimizing the tensile stress,$\\sigma$, in a beam. The beam is subjected to a 55 kip load. You needed to choose the width (w) and height(h) of the beam. However, due to sizing limitations, the area needed to be less than 20 square inches and the perimeter needed to be less than 20 inches.\n",
    "\n",
    "1. First off lets rewrite the equation into an optimization problem:\n",
    "<center>$\\text{minimize}\\;\\; f(x) = \\frac{55*1000}{wh}$<br>\n",
    " $\\;\\;\\;\\;\\;\\;\\;\\;\\;\\text{subject to} \\;\\; g(x) = wh-20 \\le 0 $<br>\n",
    " $\\;\\;\\;\\;\\;\\;\\;\\;\\;\\;\\;\\;\\;\\;\\;\\;\\;\\;\\;\\;\\;\\;\\;\\;\\;\\;\\;\\;\\;\\;\\;\\;\\;\\;\\;\\;\\;\\;\\;g(x) =\\;2*h+2*w-18\\le0$\n",
    " </center>\n",
    "<br><br>*** Note if you do not have sympy installed for jupyter notebook you need to run the following code in a cell:<br>\n",
    "!pip install --upgrade<br>\n",
    "!pip install sympy <br>\n",
    "import sympy<br>"
   ]
  },
  {
   "cell_type": "code",
   "execution_count": 63,
   "metadata": {
    "scrolled": true
   },
   "outputs": [
    {
     "name": "stdout",
     "output_type": "stream",
     "text": [
      "The first order conditions are\n",
      "h*u1 + 2*u2 - 55000/(h*w**2)\n",
      "u1*w + 2*u2 - 55000/(h**2*w)\n",
      "u1*(h*w - 20) + u2*(2*h + 2*w - 18)\n",
      "width,height,u1 =\n",
      "Matrix([[4.47213595499958], [4.47213595499958], [137.500000000000]])\n",
      "The perimeter is\n",
      "17.88854382\n"
     ]
    }
   ],
   "source": [
    "import numpy as np\n",
    "from sympy import *\n",
    "# initialize variables and functions\n",
    "w = Symbol('w')\n",
    "h = Symbol('h')\n",
    "u1 = Symbol('u1')\n",
    "u2 = Symbol('u2')\n",
    "f = 55*1000/(w*h)\n",
    "g1 = w*h-20\n",
    "g2 = 2*h+2*w-18\n",
    "# necessary first order conditions\n",
    "foc1 = sympy.diff(f,w)+ u1*sympy.diff(g1,w)+ u2*sympy.diff(g2,w)\n",
    "print 'The first order conditions are'\n",
    "print  foc1\n",
    "foc2 = sympy.diff(f,h)+ u1*sympy.diff(g1,h)+ u2*sympy.diff(g2,h)\n",
    "print foc2\n",
    "foc3 = u1*g1+u2*g2\n",
    "print foc3\n",
    "# Let's start by checking the case where g1 is active and g2 is inactive, this gives us the following equations\n",
    "foc1g1 =h*u1 -55*1000/(h*w**2)\n",
    "foc2g1 = u1*w-55*1000/(h**2*w)\n",
    "foc3g1 =h*w -20\n",
    "ans = nsolve([foc1g1,foc2g1,foc3g1],[w, h, u1], [4, 4, 1])\n",
    "print 'width,height,u1 ='\n",
    "print ans\n",
    "perimeter = 4*4.47213595499958\n",
    "print 'The perimeter is' \n",
    "print perimeter"
   ]
  },
  {
   "cell_type": "markdown",
   "metadata": {
    "collapsed": true
   },
   "source": [
    "Since $\\mu_1$ is greater than zero and $\\mu_2$ is zero, we know we found a solution. Checking the solution, the answers we got for the width and height are multiplied together to get 20. When the perimeter is calculated, the result is 17.89 inches, which meets the requirement of being less than 18 inches."
   ]
  },
  {
   "cell_type": "code",
   "execution_count": null,
   "metadata": {
    "collapsed": true
   },
   "outputs": [],
   "source": []
  }
 ],
 "metadata": {
  "kernelspec": {
   "display_name": "Python 2",
   "language": "python",
   "name": "python2"
  },
  "language_info": {
   "codemirror_mode": {
    "name": "ipython",
    "version": 2
   },
   "file_extension": ".py",
   "mimetype": "text/x-python",
   "name": "python",
   "nbconvert_exporter": "python",
   "pygments_lexer": "ipython2",
   "version": "2.7.13"
  }
 },
 "nbformat": 4,
 "nbformat_minor": 2
}

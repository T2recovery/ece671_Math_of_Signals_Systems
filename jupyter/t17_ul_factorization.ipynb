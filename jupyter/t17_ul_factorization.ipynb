{
 "cells": [
  {
   "cell_type": "markdown",
   "metadata": {},
   "source": [
    "# LU Factorization"
   ]
  },
  {
   "cell_type": "markdown",
   "metadata": {},
   "source": [
    "AUTHOR \n",
    "\n",
    "MD SHORIFUL ISLAM;   \n",
    "EMAIL- ISLAM5@BYU.EDU"
   ]
  },
  {
   "cell_type": "markdown",
   "metadata": {},
   "source": [
    "# Introduction "
   ]
  },
  {
   "cell_type": "markdown",
   "metadata": {},
   "source": [
    "\n",
    "\n",
    "Every square matrix A  can be decomposed into a product of a lower triangular matrix L and a upper triangular matrix U, as described in LU decomposition. \n",
    "                                $A=LU$  \n",
    "It is a modified form of Gaussian elimination. While the Cholesky decomposition only works for symmetric, positive definite matrices, the more general LU factorization works for any square matrix.In numerical analysis and linear algebra LU factorization factors a matrix as the product of lower triangular matrix and the upper triangular matrix which is also known as lower-upper factorization. Permutation matrix can be included with the product. LU factorization can be viewed as the matrix form of Gaussian elimination. In this project I will present SciPy listing as well as pure Python listing for LU Factorization. I will use linear equations to formulate a matrix equation, involving the matrix A and the vector x and b of which x is to be determined. \n",
    "                                $Ax=b$\n",
    "I will make use of the Doolittles LUP factorization with partial pivoting to factorize my matrix A into $PA=LU$, where L is a lower triangular matrix, U is an upper triangular matrix and P is a permutation matrix. \n",
    "To calculate the upper triangular section I use the following formula for elements of U:\n",
    " \n",
    "\\begin{equation}\n",
    "a-\n",
    "\\sum_{k=1}^{i-1} [ul]\n",
    "\\end{equation}\n",
    "The formula for the elements of the lower triangular matrix L is similar, except that I need to divide each term by the corresponding diagonal element of U. \n",
    "\\begin{equation}\n",
    "1/u(\n",
    "a-\n",
    "\\sum_{k=1}^{i-1} [ul])\n",
    "\\end{equation}\n",
    "To ensure that the algorithm is numerically stable when $u≪0$, a pivoting matrix P is used to re-order A so that the largest element of each column of A gets shifted to the diagonal of A. The formula for elements of L follows:\n",
    " \n",
    "The simpiest and most efficient way to create an LU decomposition in Python is to make use of the SciPy library which has a built in method to produce L, U and the permutation matrix P. \n",
    "Although it is unlikely you will ever need to code up an LU factorization directly, I have presented a pure Python implementation, which does not rely on any external libraries, including SciPy. This is not intended to be a fast implementation, in fact it will be significantly slower than the SciPy variant outlined above. The goal of this listing is to understand how the algorithm works \"under the hood\"\n",
    "Suppose we have a matrix A\n",
    "\n",
    "\\begin{bmatrix}\n",
    "5 & 8 & 2\\\\\n",
    "1 & 3 & 1\\\\\n",
    "4 & 5 & 3\n",
    "\\end{bmatrix}\n",
    "\n",
    "Which can be factorized as lower matrix L\n",
    "\n",
    "\\begin{bmatrix}\n",
    "a11 & 0 & 0\\\\\n",
    "a21 & a22 & 0\\\\\n",
    "a31 & a32 & a33\n",
    "\\end{bmatrix}\n",
    "\n",
    "and the upper matrix U\n",
    "\n",
    "\\begin{bmatrix}\n",
    "a11 & a12 & a13\\\\\n",
    "0 & a22 & a23\\\\\n",
    "0 & 0 & a33\n",
    "\\end{bmatrix}\n",
    "\n",
    "In this code we also use P which is a permutation matrix. A permutation matrix is a matrix obtained by permuting the rows of an identity matrix according to some permutation of the numbers 1 to 0. Every row and column therefore contains precisely a single 1 with 0s everywhere else, and every permutation corresponds to a unique permutation matrix and denoted as follows: \n",
    "\n",
    "\\begin{bmatrix}\n",
    "1 & 0 & 0\\\\\n",
    "0 & 1 & 0\\\\\n",
    "0 & 0 & 1\n",
    "\\end{bmatrix}\n",
    "\n",
    "Now $PA=LU$ formula has been used to find out the factorization of A matrix as L and U. \n"
   ]
  },
  {
   "cell_type": "markdown",
   "metadata": {},
   "source": [
    "# LU Factorization by SciPy"
   ]
  },
  {
   "cell_type": "markdown",
   "metadata": {},
   "source": [
    "In this section, i used the SciPy built in library to find out the LU factorization which will provide the correct result with \n",
    "very small period of time. Later we will compare the result with my generated code. "
   ]
  },
  {
   "cell_type": "code",
   "execution_count": 56,
   "metadata": {},
   "outputs": [],
   "source": [
    "#Finding the LU factorization using SciPy\n",
    "#Print A, P, L and U at the output\n",
    "import pprint\n"
   ]
  },
  {
   "cell_type": "code",
   "execution_count": 57,
   "metadata": {},
   "outputs": [],
   "source": [
    "import scipy"
   ]
  },
  {
   "cell_type": "code",
   "execution_count": 58,
   "metadata": {},
   "outputs": [],
   "source": [
    "import scipy.linalg   # SciPy Linear Algebra Library"
   ]
  },
  {
   "cell_type": "code",
   "execution_count": 59,
   "metadata": {},
   "outputs": [],
   "source": [
    "#Create an matrix\n",
    "A = scipy.array([ [7, 3, -1, 2], [3, 8, 1, -4], [-1, 1, 4, -1], [2, -4, -1, 6] ])\n",
    "#Permutation matrix p, upper triangular matrix U and the lower triangular matrix L\n",
    "P, L, U = scipy.linalg.lu(A)\n"
   ]
  },
  {
   "cell_type": "code",
   "execution_count": 60,
   "metadata": {},
   "outputs": [
    {
     "name": "stdout",
     "output_type": "stream",
     "text": [
      "A:\n",
      "array([[ 7,  3, -1,  2],\n",
      "       [ 3,  8,  1, -4],\n",
      "       [-1,  1,  4, -1],\n",
      "       [ 2, -4, -1,  6]])\n"
     ]
    }
   ],
   "source": [
    "#print A matrix\n",
    "print (\"A:\")\n",
    "#Print the formatted represntation of A on stream, followed by a newline\n",
    "pprint.pprint(A)"
   ]
  },
  {
   "cell_type": "code",
   "execution_count": 61,
   "metadata": {},
   "outputs": [
    {
     "name": "stdout",
     "output_type": "stream",
     "text": [
      "P:\n",
      "array([[1., 0., 0., 0.],\n",
      "       [0., 1., 0., 0.],\n",
      "       [0., 0., 1., 0.],\n",
      "       [0., 0., 0., 1.]])\n"
     ]
    }
   ],
   "source": [
    "\n",
    "print (\"P:\") \n",
    "pprint.pprint(P)"
   ]
  },
  {
   "cell_type": "code",
   "execution_count": 62,
   "metadata": {},
   "outputs": [
    {
     "name": "stdout",
     "output_type": "stream",
     "text": [
      "L:\n",
      "array([[ 1.        ,  0.        ,  0.        ,  0.        ],\n",
      "       [ 0.42857143,  1.        ,  0.        ,  0.        ],\n",
      "       [-0.14285714,  0.21276596,  1.        ,  0.        ],\n",
      "       [ 0.28571429, -0.72340426,  0.08982036,  1.        ]])\n"
     ]
    }
   ],
   "source": [
    "print (\"L:\")\n",
    "pprint.pprint(L)"
   ]
  },
  {
   "cell_type": "code",
   "execution_count": 63,
   "metadata": {},
   "outputs": [
    {
     "name": "stdout",
     "output_type": "stream",
     "text": [
      "U:\n",
      "array([[ 7.        ,  3.        , -1.        ,  2.        ],\n",
      "       [ 0.        ,  6.71428571,  1.42857143, -4.85714286],\n",
      "       [ 0.        ,  0.        ,  3.55319149,  0.31914894],\n",
      "       [ 0.        ,  0.        ,  0.        ,  1.88622754]])\n"
     ]
    }
   ],
   "source": [
    "print (\"U:\")\n",
    "pprint.pprint(U)\n"
   ]
  },
  {
   "cell_type": "markdown",
   "metadata": {},
   "source": [
    "# Python implementation of LU factorization without any library "
   ]
  },
  {
   "cell_type": "code",
   "execution_count": 79,
   "metadata": {},
   "outputs": [],
   "source": [
    "import pprint"
   ]
  },
  {
   "cell_type": "code",
   "execution_count": 80,
   "metadata": {},
   "outputs": [],
   "source": [
    "\"\"\"Multiply square matrices of same dimension M and N\"\"\"\n",
    "def mult_matrix(M, N):\n",
    "    # Converts N into a list of tuples of columns\n",
    "    tuple_N = zip(*N)\n",
    "    # Nested list comprehension to calculate matrix multiplication \n",
    "    return [[sum(el_m * el_n for el_m, el_n in zip(row_m, col_n)) for col_n in tuple_N] for row_m in M]"
   ]
  },
  {
   "cell_type": "code",
   "execution_count": 81,
   "metadata": {},
   "outputs": [],
   "source": [
    "def pivot_matrix(M):\n",
    "    \"\"\"Returns the pivoting matrix for M, used in Doolittle's method.\"\"\"\n",
    "    m = len(M)\n",
    "     # Create an identity matrix, with floating point values\n",
    "    id_mat = [[float(i ==j) for i in xrange(m)] for j in xrange(m)]\n",
    "     # Rearrange the identity matrix such that the largest element of\n",
    "     # each column of M is placed on the diagonal of of M \n",
    "    for j in xrange(m):\n",
    "        row = max(xrange(j, m), key=lambda i: abs(M[i][j]))\n",
    "        # Swap the rows \n",
    "        if j != row:\n",
    "            # Swap the rows                                                                                                                                                                                                                            \n",
    "            id_mat[j], id_mat[row] = id_mat[row], id_mat[j]\n",
    "\n",
    "        return id_mat"
   ]
  },
  {
   "cell_type": "code",
   "execution_count": 82,
   "metadata": {},
   "outputs": [],
   "source": [
    "\"\"\"Performs an LU Decomposition of A (which must be square)                                                                                                                                                                                        \n",
    "    into PA = LU. The function returns P, L and U.\"\"\"\n",
    "def lu_decomposition(A):\n",
    "    n = len(A)\n",
    "    L = [[0.0] * n for i in xrange(n)]\n",
    "    U = [[0.0] * n for i in xrange(n)]\n",
    "    # Create the pivot matrix P and the multipled matrix PA\n",
    "    P = pivot_matrix(A)\n",
    "    PA = mult_matrix(P, A)\n",
    "    # Perform the LU Decomposition \n",
    "    for j in xrange(n):\n",
    "        # All diagonal entries of L are set to unity\n",
    "        L[j][j] = 1.0\n",
    "        # LaTeX: u_{ij} = a_{ij} - \\sum_{k=1}^{i-1} u_{kj} l_{ik} \n",
    "        for i in xrange(j+1):\n",
    "            s1 = sum(U[k][j] * L[i][k] for k in xrange(i))\n",
    "            U[i][j] = PA[i][j] - s1\n",
    "            # LaTeX: l_{ij} = \\frac{1}{u_{jj}} (a_{ij} - \\sum_{k=1}^{j-1} u_{kj} l_{ik} )  \n",
    "            for i in xrange(j, n):\n",
    "                s2 = sum(U[k][j] * L[i][k] for k in xrange(j))\n",
    "                L[i][j] = (PA[i][j] - s2) / U[j][j]\n",
    "    return (P, L, U)\n",
    "            \n",
    "    "
   ]
  },
  {
   "cell_type": "code",
   "execution_count": 83,
   "metadata": {
    "collapsed": true
   },
   "outputs": [
    {
     "ename": "NameError",
     "evalue": "name 'xrange' is not defined",
     "output_type": "error",
     "traceback": [
      "\u001b[1;31m---------------------------------------------------------------------------\u001b[0m",
      "\u001b[1;31mNameError\u001b[0m                                 Traceback (most recent call last)",
      "\u001b[1;32m<ipython-input-83-44cb21a1278f>\u001b[0m in \u001b[0;36m<module>\u001b[1;34m()\u001b[0m\n\u001b[0;32m      2\u001b[0m \u001b[0mA\u001b[0m \u001b[1;33m=\u001b[0m \u001b[1;33m[\u001b[0m\u001b[1;33m[\u001b[0m\u001b[1;36m7\u001b[0m\u001b[1;33m,\u001b[0m \u001b[1;36m3\u001b[0m\u001b[1;33m,\u001b[0m \u001b[1;33m-\u001b[0m\u001b[1;36m1\u001b[0m\u001b[1;33m,\u001b[0m \u001b[1;36m2\u001b[0m\u001b[1;33m]\u001b[0m\u001b[1;33m,\u001b[0m \u001b[1;33m[\u001b[0m\u001b[1;36m3\u001b[0m\u001b[1;33m,\u001b[0m \u001b[1;36m8\u001b[0m\u001b[1;33m,\u001b[0m \u001b[1;36m1\u001b[0m\u001b[1;33m,\u001b[0m \u001b[1;33m-\u001b[0m\u001b[1;36m4\u001b[0m\u001b[1;33m]\u001b[0m\u001b[1;33m,\u001b[0m \u001b[1;33m[\u001b[0m\u001b[1;33m-\u001b[0m\u001b[1;36m1\u001b[0m\u001b[1;33m,\u001b[0m \u001b[1;36m1\u001b[0m\u001b[1;33m,\u001b[0m \u001b[1;36m4\u001b[0m\u001b[1;33m,\u001b[0m \u001b[1;33m-\u001b[0m\u001b[1;36m1\u001b[0m\u001b[1;33m]\u001b[0m\u001b[1;33m,\u001b[0m \u001b[1;33m[\u001b[0m\u001b[1;36m2\u001b[0m\u001b[1;33m,\u001b[0m \u001b[1;33m-\u001b[0m\u001b[1;36m4\u001b[0m\u001b[1;33m,\u001b[0m \u001b[1;33m-\u001b[0m\u001b[1;36m1\u001b[0m\u001b[1;33m,\u001b[0m \u001b[1;36m6\u001b[0m\u001b[1;33m]\u001b[0m\u001b[1;33m]\u001b[0m\u001b[1;33m\u001b[0m\u001b[0m\n\u001b[0;32m      3\u001b[0m \u001b[1;31m#finding the lu factorization\u001b[0m\u001b[1;33m\u001b[0m\u001b[1;33m\u001b[0m\u001b[0m\n\u001b[1;32m----> 4\u001b[1;33m \u001b[0mP\u001b[0m\u001b[1;33m,\u001b[0m \u001b[0mL\u001b[0m\u001b[1;33m,\u001b[0m \u001b[0mU\u001b[0m \u001b[1;33m=\u001b[0m \u001b[0mlu_decomposition\u001b[0m\u001b[1;33m(\u001b[0m\u001b[0mA\u001b[0m\u001b[1;33m)\u001b[0m\u001b[1;33m\u001b[0m\u001b[0m\n\u001b[0m",
      "\u001b[1;32m<ipython-input-82-25a903a9f82a>\u001b[0m in \u001b[0;36mlu_decomposition\u001b[1;34m(A)\u001b[0m\n\u001b[0;32m      3\u001b[0m \u001b[1;32mdef\u001b[0m \u001b[0mlu_decomposition\u001b[0m\u001b[1;33m(\u001b[0m\u001b[0mA\u001b[0m\u001b[1;33m)\u001b[0m\u001b[1;33m:\u001b[0m\u001b[1;33m\u001b[0m\u001b[0m\n\u001b[0;32m      4\u001b[0m     \u001b[0mn\u001b[0m \u001b[1;33m=\u001b[0m \u001b[0mlen\u001b[0m\u001b[1;33m(\u001b[0m\u001b[0mA\u001b[0m\u001b[1;33m)\u001b[0m\u001b[1;33m\u001b[0m\u001b[0m\n\u001b[1;32m----> 5\u001b[1;33m     \u001b[0mL\u001b[0m \u001b[1;33m=\u001b[0m \u001b[1;33m[\u001b[0m\u001b[1;33m[\u001b[0m\u001b[1;36m0.0\u001b[0m\u001b[1;33m]\u001b[0m \u001b[1;33m*\u001b[0m \u001b[0mn\u001b[0m \u001b[1;32mfor\u001b[0m \u001b[0mi\u001b[0m \u001b[1;32min\u001b[0m \u001b[0mxrange\u001b[0m\u001b[1;33m(\u001b[0m\u001b[0mn\u001b[0m\u001b[1;33m)\u001b[0m\u001b[1;33m]\u001b[0m\u001b[1;33m\u001b[0m\u001b[0m\n\u001b[0m\u001b[0;32m      6\u001b[0m     \u001b[0mU\u001b[0m \u001b[1;33m=\u001b[0m \u001b[1;33m[\u001b[0m\u001b[1;33m[\u001b[0m\u001b[1;36m0.0\u001b[0m\u001b[1;33m]\u001b[0m \u001b[1;33m*\u001b[0m \u001b[0mn\u001b[0m \u001b[1;32mfor\u001b[0m \u001b[0mi\u001b[0m \u001b[1;32min\u001b[0m \u001b[0mxrange\u001b[0m\u001b[1;33m(\u001b[0m\u001b[0mn\u001b[0m\u001b[1;33m)\u001b[0m\u001b[1;33m]\u001b[0m\u001b[1;33m\u001b[0m\u001b[0m\n\u001b[0;32m      7\u001b[0m     \u001b[1;31m# Create the pivot matrix P and the multipled matrix PA\u001b[0m\u001b[1;33m\u001b[0m\u001b[1;33m\u001b[0m\u001b[0m\n",
      "\u001b[1;31mNameError\u001b[0m: name 'xrange' is not defined"
     ]
    }
   ],
   "source": [
    "#creating a matrix \n",
    "A = [[7, 3, -1, 2], [3, 8, 1, -4], [-1, 1, 4, -1], [2, -4, -1, 6]]\n",
    "#finding the lu factorization\n",
    "P, L, U = lu_decomposition(A)"
   ]
  },
  {
   "cell_type": "code",
   "execution_count": 84,
   "metadata": {},
   "outputs": [
    {
     "name": "stdout",
     "output_type": "stream",
     "text": [
      "A:\n",
      "[[7, 3, -1, 2], [3, 8, 1, -4], [-1, 1, 4, -1], [2, -4, -1, 6]]\n"
     ]
    }
   ],
   "source": [
    "print (\"A:\")\n",
    "pprint.pprint(A)\n"
   ]
  },
  {
   "cell_type": "code",
   "execution_count": 85,
   "metadata": {},
   "outputs": [
    {
     "name": "stdout",
     "output_type": "stream",
     "text": [
      "P:\n",
      "array([[1., 0., 0., 0.],\n",
      "       [0., 1., 0., 0.],\n",
      "       [0., 0., 1., 0.],\n",
      "       [0., 0., 0., 1.]])\n"
     ]
    }
   ],
   "source": [
    "print (\"P:\")\n",
    "pprint.pprint(P)\n"
   ]
  },
  {
   "cell_type": "code",
   "execution_count": 86,
   "metadata": {},
   "outputs": [
    {
     "name": "stdout",
     "output_type": "stream",
     "text": [
      "L:\n",
      "array([[ 1.        ,  0.        ,  0.        ,  0.        ],\n",
      "       [ 0.42857143,  1.        ,  0.        ,  0.        ],\n",
      "       [-0.14285714,  0.21276596,  1.        ,  0.        ],\n",
      "       [ 0.28571429, -0.72340426,  0.08982036,  1.        ]])\n"
     ]
    }
   ],
   "source": [
    "\n",
    "print (\"L:\")\n",
    "pprint.pprint(L)\n"
   ]
  },
  {
   "cell_type": "code",
   "execution_count": 87,
   "metadata": {},
   "outputs": [
    {
     "name": "stdout",
     "output_type": "stream",
     "text": [
      "U:\n",
      "array([[ 7.        ,  3.        , -1.        ,  2.        ],\n",
      "       [ 0.        ,  6.71428571,  1.42857143, -4.85714286],\n",
      "       [ 0.        ,  0.        ,  3.55319149,  0.31914894],\n",
      "       [ 0.        ,  0.        ,  0.        ,  1.88622754]])\n"
     ]
    }
   ],
   "source": [
    "\n",
    "print (\"U:\")\n",
    "pprint.pprint(U)"
   ]
  },
  {
   "cell_type": "markdown",
   "metadata": {},
   "source": [
    "# Application of LU Factorization "
   ]
  },
  {
   "cell_type": "markdown",
   "metadata": {},
   "source": [
    "# Inverse of a Matrix "
   ]
  },
  {
   "cell_type": "markdown",
   "metadata": {},
   "source": [
    "Using the above LU decomposition and back substitution routines, it is completely straightforward to find the inverse of a matrix column by column. Incidentally, if we ever have the need to compute $A−1 • B$ from matrices A and B, we should LU decompose A and then backsubstitute with the columns of B instead of with the unit vectors that would give A’s inverse. This saves a whole matrix multiplication, and is also more accurate"
   ]
  },
  {
   "cell_type": "markdown",
   "metadata": {},
   "source": [
    "# Determinant of a Matrix "
   ]
  },
  {
   "cell_type": "markdown",
   "metadata": {},
   "source": [
    "The determinant of an LU decomposed matrix is just the product of the diagonal elements, det = A We don’t, recall, compute the decomposition of the original matrix, but rather a decomposition of a rowwise permutation of it. Luckily, we have kept track of whether the number of row interchanges was even or odd, so we just preface the product by the corresponding sign. \n",
    "For a matrix of any substantial size, it is quite likely that the determinant will overflow or underflow computer’s floating-point dynamic range. In this case we can modify the loop of the above fragment and (e.g.) divide by powers of ten, to keep track of the scale separately, or (e.g.) accumulate the sum of logarithms of the absolute values of the factors and the sign separately.\n"
   ]
  },
  {
   "cell_type": "markdown",
   "metadata": {},
   "source": [
    "# Complex Systems of Equations"
   ]
  },
  {
   "cell_type": "markdown",
   "metadata": {},
   "source": [
    "If matrix A is real, but the right-hand side vector is complex, say $b + id$, then (i) LU decompose A in the usual way, (ii) backsubstitute b to get the real part of the solution vector, and (iii) backsubstitute d to get the imaginary part of the solution vector. If the matrix itself is complex, so that we want to solve the system $(A + iC) • (x + iy)=(b + id)$ then there are two possible ways to proceed. The best way is to rewrite ludcmp and lubksb as complex routines. Complex modulus substitutes for absolute value in the construction of the scaling vector vv and in the search for the largest pivot elements. Everything else goes through in the obvious way, with complex arithmetic used as needed. "
   ]
  },
  {
   "cell_type": "markdown",
   "metadata": {},
   "source": [
    "# Conclusion "
   ]
  },
  {
   "cell_type": "markdown",
   "metadata": {},
   "source": [
    "The result of the python generated code and the SciPy code should be same for the accurate python code. I got the same result for the python code and SciPy. This code is valid only both for the Python2 and Python3. It may show some error in python3 because python3 prefers range instead of xrange command. xrange need to be change in range for python3 which is a valid command to avoid any kind of error. "
   ]
  },
  {
   "cell_type": "code",
   "execution_count": null,
   "metadata": {},
   "outputs": [],
   "source": []
  }
 ],
 "metadata": {
  "kernelspec": {
   "display_name": "Python 3",
   "language": "python",
   "name": "python3"
  },
  "language_info": {
   "codemirror_mode": {
    "name": "ipython",
    "version": 3
   },
   "file_extension": ".py",
   "mimetype": "text/x-python",
   "name": "python",
   "nbconvert_exporter": "python",
   "pygments_lexer": "ipython3",
   "version": "3.7.0"
  }
 },
 "nbformat": 4,
 "nbformat_minor": 2
}

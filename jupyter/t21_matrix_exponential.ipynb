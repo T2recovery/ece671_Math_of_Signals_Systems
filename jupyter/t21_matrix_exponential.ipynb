{
 "cells": [
  {
   "cell_type": "markdown",
   "metadata": {},
   "source": [
    "[Table of Contents](table_of_contents.ipynb)"
   ]
  },
  {
   "cell_type": "markdown",
   "metadata": {},
   "source": [
    "# Topic 21:  The Matrix Exponential\n",
    "Author: Thane Downing thanedowning@gmail.com"
   ]
  },
  {
   "cell_type": "markdown",
   "metadata": {},
   "source": [
    "## Introduction \n",
    "The matrix exponential is a useful tool in solving systems of linear differential equations, helping to describe the behavior of linear systems, as well as having several other intersting uses.  The matrix exponential works much like the scalar exponential and has many of the same properties.  While perhaps initially unfamiliar, the matrix exponential developes readily from very familiar concepts and contributes to a straightforward understanding of how matrix math fits into a larger framework."
   ]
  },
  {
   "cell_type": "markdown",
   "metadata": {},
   "source": [
    "## Explanation of the theory\n",
    "The eponential of any square matrix A can be writen as $e^A$, and can be understood in a similar way that we understand the scalar equivalent exponential $e^x$.  From calculus, we know that  $$\\frac{d}{dx}e^x = xe^x$$  The same is true of the matrix exponential  $$\\frac{d}{dx}e^A = Ae^A$$  The scalar exponential has the property  $(e^x)^{-1} = e^{-x}$  which follows directly from algebra.  The matrix exponential shares this property such that  $(e^A)^{-1} = e^{-A}$.  The Taylor series can be use to define $e^x$.  $$e^x = 1 + x + \\frac{x^2}{2!} + \\frac{x^3}{3!} + \\ldots + \\frac{n^2}{n!} + \\ldots$$  The matrix exponential can also be defined this way.  $$e^A = I + A + \\frac{A^2}{2!} + \\frac{A^3}{3!} + \\ldots + \\frac{A^2}{n!} + \\ldots$$  In fact, this is the most general way to define the matrix exponential, and it works for any square matrix.  Therefore, in general we will define the matrix exponential as $$e^A = \\sum_{n=0}^{\\infty} \\frac{1}{n!}A^n$$\n",
    "\n",
    "One classic property of scalar exponentials that doesn't translate generally to matrix exponentials is the property  $$e^ae^b = e^{a+b}$$  For the matrix exponential case, in general  $$e^Ae^B \\neq e^{A+B}$$  This is because $A$ and $B$ must be able to commute in order for these to be equal, i.e. $AB = BA$.  This can be seen using the definition given above; $e^Ae^B$ can only be rearranged into $e^{A+B}$ (by multiplying to instances of the Taylor series definition above) if, in the following product $(A+B)(A+B) = A^2 + AB + BA + B^2$, the sum of $AB + BA$ can be writen $2AB$ or $2BA$.  In general this is not the case, therefore in general $e^Ae^B \\neq e^{A+B}$.\n",
    "\n",
    "An expanded form to represent the matrix exponential, that only works for diagonalizable matrices, is given as $e^A = X e^{\\Lambda} X^{-1}$, where $\\Lambda$ is the diagonal matrix of the eigenvalues of $A$ and $X$ is an invertable matrix made up of the eigenvectors of $A$.  Taking this one step futher we can find that $$e^\\Lambda = \\begin{pmatrix}\n",
    "    e^{\\lambda_{1}} &   &   &   \\\\\n",
    "      & e^{\\lambda_{2}} &   &   \\\\\n",
    "      &   & \\ddots &   \\\\\n",
    "      &   &   & e^{\\lambda_{n}}\n",
    "\\end{pmatrix}$$  which makes computation quite straightforward.\n",
    "\n",
    "The matrix exponential is handy in solving systems of linear differential equations, such as those encountered in continuous time state space equations.  Given some linear ordinary differential equation $\\frac{dx}{dt} = ax$, we can determine that the solution is $x(t) = e^{at}$.  Now suppose we have a system of linear differential equations such that $\\frac{d\\textbf{x}}{dt} = A\\textbf{x}$. The solution to this system is $\\textbf{x}(t) = e^{At}\\textbf{x}(0)$.  Using the expanded form given above, this solution can be rewriten $\\textbf{x}(t) = e^{At}\\textbf{x}(0) = Xe^{\\Lambda t}X^{-1}\\textbf{x}(0)$.  We can use the eigenvalues of A to determine the behavior of the solution similar to the way we can determine system dynamics in other settings.  The solution will decay if Re$(\\lambda_i) < 0$, it will just oscillate if Re$(\\lambda_i) = 0$ ($\\lambda_i$ is purley imaginary), and it blow up if Re$(\\lambda_i) > 0$, where $\\lambda_i$ is the eigen value associated with a given eigenvector in the system.\n",
    "\n",
    "Occasionally, this solution using the matrix exponential will be represented in terms of the Laplace transform as in $$e^{At} = \\mathcal{L}^{-1}(sI - A)^{-1}$$  However, using the Neumann expansion $(sI - A)^{-1} = \\frac{1}{s}(I + A/s + A^2/s^2 + \\ldots)$, then taking the inverse Laplace transform produces the same Taylor series form of the matrix exponential as that given above.\n",
    "\n",
    "In the context of continuous time LTI system defined by the state space equations $$\\dot{\\textbf{x}} = A\\textbf{x}(t) + B\\textbf{f}(t)\\\\\n",
    "\\textbf{y}(t) = C\\textbf{x}(t)+D\\textbf{f}(t)$$\n",
    "the matrix exponential is used in the solution $$\\textbf{x}(t) = e^{At}\\textbf{x}(0) + \\int_{0}^{t} e^{A(t-\\lambda)}B\\textbf{f}(t)d\\lambda$$  If instead of starting at $t = 0$, we start at some arbitrary time $\\tau$, then the solution to the state at $t$ will be of the form $$\\textbf{x}(t) = e^{A(t-\\tau)}\\textbf{x}(\\tau) + \\int_{\\tau}^{t} e^{A(t-\\tau)}B\\textbf{f}(t)d\\lambda$$  The matrix $e^A(t-\\tau)$ can be seen as a method of moving from some arbitrary state $\\textbf{x}(\\tau)$ to another $\\textbf{x}(t)$, and is therefore sometimes refered to as the propagation matrix or the state-transition matrix denoted $\\Phi(t,\\tau)$.  This matrix has a couple interesting propeties: $$  \n",
    "\\begin{matrix}  \n",
    "  \\Phi(t,t) = I \\\\  \n",
    "  \\frac{\\partial \\Phi(t,\\tau)}{\\partial t} = A \\Phi(t,\\tau) \\\\  \n",
    "  \\Phi(t,\\tau) = (\\Phi(\\tau,t))^{-1} \\\\  \n",
    "\\end{matrix}$$\n",
    "\n",
    "Although there are contrived examples where the solution to the matrix exponential is nice and tidy, in general the solution will be rather complex.  For instance, the general solution to a $e^A$, where $A$ is a 2x2 matrix $$A = \\begin{pmatrix}\n",
    "    a & b\\\\\n",
    "    c & d\n",
    "\\end{pmatrix}$$  is given by \n",
    "$$\\begin{matrix} \n",
    "    e^A = \\frac{1}{\\Delta}\n",
    "    \\begin{pmatrix}\n",
    "        e^{\\frac{a+d}{2}}(\\Delta cosh(\\frac{1}{2}\\Delta)+(a-d)sinh(\\frac{1}{2}\\Delta)) & 2b e^{\\frac{a+d}{2}}sinh(\\frac{1}{2}\\Delta)\\\\\n",
    "        2c e^{\\frac{a+d}{2}}sinh(\\frac{1}{2}\\Delta) & e^{\\frac{a+d}{2}}(\\Delta cosh(\\frac{1}{2}\\Delta)+(d-a)sinh(\\frac{1}{2}\\Delta))\n",
    "    \\end{pmatrix} \\\\    \n",
    "    \\Delta = \\sqrt{(a-d)^2+4bc}\n",
    "\\end{matrix}$$"
   ]
  },
  {
   "cell_type": "markdown",
   "metadata": {},
   "source": [
    "## Simple Numerical Examples\n",
    "There are several examples we can use to verify the results of the preceeding section.  First, we generate a random square matrix and use the matrix exonential function from the scipy.linalg library to calculate the matrix exponential."
   ]
  },
  {
   "cell_type": "code",
   "execution_count": 1,
   "metadata": {},
   "outputs": [],
   "source": [
    "import numpy as np\n",
    "from scipy.linalg import expm\n",
    "from math import factorial, sinh, cosh, exp, sqrt, cos, ceil\n",
    "import random\n",
    "import matplotlib.pyplot as plt"
   ]
  },
  {
   "cell_type": "code",
   "execution_count": 2,
   "metadata": {},
   "outputs": [
    {
     "name": "stdout",
     "output_type": "stream",
     "text": [
      "A =\n",
      "[[ 0.41777503  0.53103038  0.04252436  0.41216531]\n",
      " [ 0.69812543  0.79625546  0.76295725  0.41021156]\n",
      " [ 0.53157639  0.82114634  0.18914389  0.5079495 ]\n",
      " [ 0.16940129  0.18442986  0.58999039  0.67698445]]\n",
      "e^A =\n",
      "[[ 2.11211077  1.38598808  0.72110255  1.16504324]\n",
      " [ 2.09831048  3.57898164  1.9539366   1.83430856]\n",
      " [ 1.59212573  2.1362369   2.19697908  1.61725546]\n",
      " [ 0.88873006  1.12036052  1.30709399  2.58273717]]\n"
     ]
    }
   ],
   "source": [
    "A = np.array([[random.random(),random.random(),random.random(),random.random()],\n",
    "              [random.random(),random.random(),random.random(),random.random()],\n",
    "              [random.random(),random.random(),random.random(),random.random()],\n",
    "              [random.random(),random.random(),random.random(),random.random()]])\n",
    "print \"A =\\n\", A\n",
    "print \"e^A =\\n\", expm(A)"
   ]
  },
  {
   "cell_type": "markdown",
   "metadata": {},
   "source": [
    "Next, we can test our Taylor series expansion method (making sure to use enough iterations to get a good approximation) to verify that this approach will give us the same thing as the library function does. "
   ]
  },
  {
   "cell_type": "code",
   "execution_count": 3,
   "metadata": {},
   "outputs": [
    {
     "name": "stdout",
     "output_type": "stream",
     "text": [
      "[[ 2.11211077  1.38598808  0.72110255  1.16504324]\n",
      " [ 2.09831048  3.57898164  1.9539366   1.83430856]\n",
      " [ 1.59212573  2.1362369   2.19697908  1.61725546]\n",
      " [ 0.88873006  1.12036052  1.30709399  2.58273717]]\n"
     ]
    }
   ],
   "source": [
    "taylor_estimate = np.eye(4) + A\n",
    "add = A\n",
    "for i in range(2,200):\n",
    "    add = np.matmul(add,A)/i\n",
    "    taylor_estimate = taylor_estimate + add\n",
    "print taylor_estimate"
   ]
  },
  {
   "cell_type": "markdown",
   "metadata": {},
   "source": [
    "We can also test the expanded form of the matrix exponential by using the scipy.linalg library to find the eigenvalues and eigenvectors of $A$ to verify that this method also produces what we expect to see."
   ]
  },
  {
   "cell_type": "code",
   "execution_count": 4,
   "metadata": {},
   "outputs": [
    {
     "name": "stdout",
     "output_type": "stream",
     "text": [
      "[[ 2.11211077  1.38598808  0.72110255  1.16504324]\n",
      " [ 2.09831048  3.57898164  1.9539366   1.83430856]\n",
      " [ 1.59212573  2.1362369   2.19697908  1.61725546]\n",
      " [ 0.88873006  1.12036052  1.30709399  2.58273717]]\n"
     ]
    }
   ],
   "source": [
    "lam, X = np.linalg.eig(A)\n",
    "eigen_decomp = np.matmul(np.matmul(X,expm(np.diag(lam))),np.linalg.inv(X))\n",
    "print eigen_decomp"
   ]
  },
  {
   "cell_type": "markdown",
   "metadata": {},
   "source": [
    "We can check the basic property $(e^A)^{-1} = e^{-A}$"
   ]
  },
  {
   "cell_type": "code",
   "execution_count": 5,
   "metadata": {},
   "outputs": [
    {
     "name": "stdout",
     "output_type": "stream",
     "text": [
      "e^-A =\n",
      "[[ 0.76307929 -0.33076492  0.17330506 -0.21782085]\n",
      " [-0.30979663  0.71708154 -0.50396241 -0.05396847]\n",
      " [-0.25085094 -0.497817    1.11972926 -0.23443581]\n",
      " [-0.0012397   0.05469565 -0.40770436  0.60419532]]\n",
      "(e^A)^-1 =\n",
      "[[ 0.76307929 -0.33076492  0.17330506 -0.21782085]\n",
      " [-0.30979663  0.71708154 -0.50396241 -0.05396847]\n",
      " [-0.25085094 -0.497817    1.11972926 -0.23443581]\n",
      " [-0.0012397   0.05469565 -0.40770436  0.60419532]]\n"
     ]
    }
   ],
   "source": [
    "print \"e^-A =\\n\", expm(-A)\n",
    "print \"(e^A)^-1 =\\n\", np.linalg.inv(expm(A))"
   ]
  },
  {
   "cell_type": "markdown",
   "metadata": {},
   "source": [
    "A quick check will show that indeed, in general $e^Ae^B \\neq e^{A+B}$"
   ]
  },
  {
   "cell_type": "code",
   "execution_count": 6,
   "metadata": {},
   "outputs": [
    {
     "name": "stdout",
     "output_type": "stream",
     "text": [
      "(e^A)*(e^B) =\n",
      "[[  2.89313406   0.6620096    0.70024447   0.35380883]\n",
      " [  4.2540861   12.28011182   5.30642275   3.5365327 ]\n",
      " [  2.72511048   4.51514568   6.84983879   2.1878806 ]\n",
      " [  1.759763     2.07105209   2.90330633   5.14254724]]\n",
      "e^(A+B) =\n",
      "[[  7.49914959   7.82533417   7.16019721   5.87058551]\n",
      " [ 17.40289883  21.92329833  19.12141699  15.75151267]\n",
      " [ 14.0086614   17.02401286  15.89451394  12.54361878]\n",
      " [ 12.57003962  14.49902883  13.63391563  12.01335549]]\n"
     ]
    }
   ],
   "source": [
    "B = np.array([[random.random(),random.random(),random.random(),random.random()],\n",
    "              [random.random(),random.random(),random.random(),random.random()],\n",
    "              [random.random(),random.random(),random.random(),random.random()],\n",
    "              [random.random(),random.random(),random.random(),random.random()]])\n",
    "C = expm(A)*expm(B)\n",
    "D = expm(A+B)\n",
    "print \"(e^A)*(e^B) =\\n\",C \n",
    "print \"e^(A+B) =\\n\",D"
   ]
  },
  {
   "cell_type": "markdown",
   "metadata": {},
   "source": [
    "We can even test the formula for computing a 2x2 matrix $\\begin{pmatrix}\n",
    "    a & b\\\\\n",
    "    c & d\n",
    "\\end{pmatrix}$ using the terms a, b, c, and d."
   ]
  },
  {
   "cell_type": "code",
   "execution_count": 7,
   "metadata": {},
   "outputs": [
    {
     "name": "stdout",
     "output_type": "stream",
     "text": [
      "H =\n",
      "[[ 1.76853665  1.72718204]\n",
      " [ 1.81716025  3.22362205]]\n",
      "G =\n",
      "[[ 1.76853665  1.72718204]\n",
      " [ 1.81716025  3.22362205]]\n"
     ]
    }
   ],
   "source": [
    "a = random.random()\n",
    "b = random.random()\n",
    "c = random.random()\n",
    "d = random.random()\n",
    "\n",
    "H = expm(np.array([[a,b],[c,d]]))\n",
    "G = (1/sqrt((a-d)**2+4*b*c))*np.array([\n",
    "    [exp((a+d)/2)*(sqrt((a-d)**2+4*b*c)*cosh(.5*sqrt((a-d)**2+4*b*c))+(a-d)*sinh(.5*sqrt((a-d)**2+4*b*c))),\n",
    "     2*b*exp(((a+d)/2))*sinh(.5*sqrt((a-d)**2+4*b*c))],\n",
    "    [2*c*exp(((a+d)/2))*sinh(.5*sqrt((a-d)**2+4*b*c)),\n",
    "     exp(((a+d)/2))*(sqrt((a-d)**2+4*b*c)*cosh(.5*sqrt((a-d)**2+4*b*c))+(d-a)*sinh(.5*sqrt((a-d)**2+4*b*c)))]])\n",
    "print \"H =\\n\", H\n",
    "print \"G =\\n\", G"
   ]
  },
  {
   "cell_type": "markdown",
   "metadata": {},
   "source": [
    "## Engineering Application \n",
    "One of the most applicable uses of the matrix exponential is in propagating the states of a system described by state space equations.  We can choose from thousands of examples of physical systems that have well defined state space representations to use as the basis for this exercise.  The following code is flexible enough to implement any LTI constant coefficient system.  Only the A, B, C, and D matrices need to be changed (along with the corresponding dimensions of u, x, and y)."
   ]
  },
  {
   "cell_type": "markdown",
   "metadata": {},
   "source": [
    "The following example models an RLC circuit with two capacitors in parallel, where the input is an AC voltage source with an amplitude of five volts, the intermidiary states are the voltages over the two capcitors, and the output is the current through the first resistor, as shown in the picture below. ![RLC_Circuit](t21_matrix_exponential_rlc_circuit.png)"
   ]
  },
  {
   "cell_type": "code",
   "execution_count": 8,
   "metadata": {},
   "outputs": [],
   "source": [
    "c1 = 10*10**-6 # In Farads\n",
    "c2 = 20*10**-6 # In Farads\n",
    "r1 = 200 # In Ohms\n",
    "r2 = 100 # In Ohms\n",
    "\n",
    "A = np.array([[-1/(c1*r1)-1/(c1*r2),1/(c1*r2)],\n",
    "              [1/(c2*r2),-1/(c2*r2)]])\n",
    "B = np.array([[1/(c1*r1)],[0]])\n",
    "C = np.array([[-1/r1,0]])\n",
    "D = np.array([[1/r1]])\n",
    "\n",
    "x_0 = np.array([[0],[4]])\n",
    "\n",
    "t_step = 0.001\n",
    "t_start = 0\n",
    "t_end = 15\n",
    "\n",
    "bins = int(ceil((t_end-t_start)/t_step))\n",
    "\n",
    "u_vals = np.zeros((bins,1))\n",
    "x_vals = np.zeros((bins,2))\n",
    "y_vals = np.zeros((bins,1))\n",
    "\n",
    "\n",
    "P = expm(A*t_step) # This is the propagation matrix\n",
    "\n",
    "x_val = x_0\n",
    "\n",
    "for i in range(bins):\n",
    "    u_val = 5*cos(i*t_step)\n",
    "    y_val = np.matmul(C,x_val)+D*u_val\n",
    "    u_vals[i] = u_val\n",
    "    x_vals[i,0] = x_val[0]\n",
    "    x_vals[i,1] = x_val[1]\n",
    "    y_vals[i] = y_val\n",
    "    x_val = np.matmul(P,x_val)+np.matmul(P,B)*u_val*t_step "
   ]
  },
  {
   "cell_type": "markdown",
   "metadata": {},
   "source": [
    "In the following plots, the red line shows the voltage of the input signal u(t) (AC voltage source), the blue and black dashed lines show the voltage on capacitors 1 and 2 respectively, and the green line shows the current through resistor 1 in amps.  The x axis is the number of time samples."
   ]
  },
  {
   "cell_type": "code",
   "execution_count": 9,
   "metadata": {},
   "outputs": [
    {
     "data": {
      "text/plain": [
       "<function matplotlib.pyplot.show>"
      ]
     },
     "execution_count": 9,
     "metadata": {},
     "output_type": "execute_result"
    },
    {
     "data": {
      "image/png": "[encoded data removed]",
      "text/plain": [
       "<Figure size 432x288 with 2 Axes>"
      ]
     },
     "metadata": {
      "needs_background": "light"
     },
     "output_type": "display_data"
    }
   ],
   "source": [
    "plt.figure(1)\n",
    "plt.title(\"System Dynamics of an RLC Circuit\")\n",
    "\n",
    "plt.subplot(211)\n",
    "plt.plot(u_vals, 'r-', x_vals[:,0], 'b--', x_vals[:,1])\n",
    "plt.title(\"System Dynamics of an RLC Circuit\")\n",
    "plt.ylabel('Voltage (in Volts)')\n",
    "plt.axis([0, 15000, -5.5, 5.5])\n",
    "\n",
    "plt.subplot(212)\n",
    "plt.plot( y_vals, 'g-')\n",
    "plt.ylabel('Current (in Amps)')\n",
    "plt.axis([0, 15000, -5.5, 5.5])\n",
    "\n",
    "plt.show"
   ]
  },
  {
   "cell_type": "markdown",
   "metadata": {},
   "source": [
    "#### Sources\n",
    "\"Mathematical Methods and Algorithms for Signal Processing\" by Todd K. Moon and Wynn C. Stirling\n",
    "\n",
    "http://mathworld.wolfram.com/MatrixExponential.html\n",
    "\n",
    "http://web.mit.edu/18.06/www/Spring17/Matrix-Exponentials.pdf\n",
    "\n",
    "http://web.mit.edu/16.unified/www/FALL/signalssystems/Lecture11_12.pdf"
   ]
  }
 ],
 "metadata": {
  "kernelspec": {
   "display_name": "Python 2",
   "language": "python",
   "name": "python2"
  },
  "language_info": {
   "codemirror_mode": {
    "name": "ipython",
    "version": 2
   },
   "file_extension": ".py",
   "mimetype": "text/x-python",
   "name": "python",
   "nbconvert_exporter": "python",
   "pygments_lexer": "ipython2",
   "version": "2.7.15"
  }
 },
 "nbformat": 4,
 "nbformat_minor": 2
}

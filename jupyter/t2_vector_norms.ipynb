{
 "cells": [
  {
   "cell_type": "markdown",
   "metadata": {},
   "source": [
    "[Table of Contents](table_of_contents.ipynb)"
   ]
  },
  {
   "cell_type": "markdown",
   "metadata": {},
   "source": [
    "# Topic 2.  Vector Norms\n",
    "Author: Christian Carver & Andy Monk  \n",
    "Email:  chrisitanjcarv@gmail.com, czech.monk90@gmail.com"
   ]
  },
  {
   "cell_type": "markdown",
   "metadata": {},
   "source": [
    "##  Introduction\n",
    "A **norm** is a function that assigns a positive **length** or **size** to given data that belongs to either a vector, sequence, or function space.  \n",
    "\n",
    "The norm of a vector is denoted by what looks like a double absolute value.  \n",
    "For example, the norm of the vector $X$ is $\\Vert X\\Vert$.  \n",
    "\n",
    "Different norms are denoted by subscripts outside of the norm symbol.  \n",
    "* Norms performed on vector spaces (or spaces that have a finite number of discrete data points) are simply denoted by a number indicating it's 'p' value (which will be discussed further in the following section. A few vector norms include $\\Vert X\\Vert _1$, $\\Vert X\\Vert _2$, and $\\Vert X\\Vert _\\infty$.\n",
    "* Norms performed on sequence spaces (or spaces that have an infinite number of discrete data points) are denoted the same way as norms on vector spaces, but the \"vector\" now has an infinite number of points, rather than just n of them. The space is now denoted by a lower case script l ($\\mathscr{l}$) and the 'p' number is in the superscript. For example, $\\Vert X\\Vert _2$ is the $p=2$ norm on $\\mathscr{l}^2$.\n",
    "* Finally, norms performed on function spaces (or spaces that can be defined by a function resulting in a finite or infinite number of continuous points) is denoted same as the other two spaces, but instead of a vector $x$, the function $f$ is present. The space is also now denoted by an upper case script L ($\\mathscr{L}$) and the 'p' number is in the superscript. For example, $\\Vert f\\Vert _2$ is the $p=2$ norm on $\\mathscr{L}^2$.\n",
    "\n",
    "The default norm, if no other indication is given, is the $p=2$ norm on a vector space.\n",
    "\n",
    "In the next section, various norms will be discussed on just vector spaces, and then the generalized p-norm will be explored on sequence and function spaces."
   ]
  },
  {
   "cell_type": "markdown",
   "metadata": {},
   "source": [
    "## Definition\n",
    "Let $S$ be a vector space with elements $x$. A real-valued function $\\Vert x \\Vert$ is said\n",
    "to be a **norm** if $\\Vert x \\Vert$ satisfies the following properties. \n",
    "\n",
    "\\begin{align*}\n",
    "\\Vert x \\Vert &\\ge 0 \\text{ for any } x \\in S. \\label{eq:N1} \\tag{N1}\\\\\n",
    "\\Vert x \\Vert &= 0 \\text{ if and only if } x = 0. \\label{eq:N2} \\tag{N2}\\\\\n",
    "\\Vert \\alpha x \\Vert &= \\vert \\alpha \\vert \\Vert x \\Vert, \\text{ where }\\alpha\\text{ is an arbitrary scalar}.\\label{eq:N3} \\tag{N3}\\\\\n",
    "\\Vert x+y\\Vert &\\le \\Vert x \\Vert + \\Vert y \\Vert \\text{ (triangle inequality).} \\label{eq:N4} \\tag{N4}\n",
    "\\end{align*}\n",
    "\n",
    "The real number $\\Vert x \\Vert$ is said to be the norm of $x$, or the length of $x$.\n",
    "\n",
    "An example of a vector space norm is the p norm.\n",
    "The most notable p norms include:\n",
    "* The the taxicab norm, where $p=1$.\n",
    "* The Euclidean norm, where $p=2$.\n",
    "* The infinity or max norm, where $p=\\infty$.  \n",
    "\n",
    "To understand these, we will first define the p-norm where p is left variable.\n",
    "\n",
    "### The P-Norm\n",
    "The p-norm is defined as:\n",
    "$$\\Vert X\\Vert _p \\colon = \\sqrt[\\leftroot{5}\\uproot{5}p]{\\sum_{i=1}^{n}|x_i|^p}$$\n",
    "If $n=3$, then the formula can be expanded as:\n",
    "$$\\Vert X\\Vert _p = (|x_1|^p+|x_2|^p+|x_3|^p)^{\\frac{1}{p}}$$\n",
    "It is easy to see that to take the $p=2$ norm of this $n=3$ vector, simply replace the p in the previous equation with the number 2 and calculate. Note that if $X \\in \\mathbb{C}^n$, then $|x_i|$ is the magnitude of the imaginary number.\n",
    "\n",
    "### The Taxicab Norm\n",
    "The taxicab norm gets its name from the idea of the distance that a taxi would have to drive to get from point A to point B around a block. The taxi cannot cut through the block, but must follow the streets around the block.  \n",
    "The taxicab norm is defined as:\n",
    "$$\\Vert X\\Vert _1 \\colon = \\sum_{i=1}^{n}|x_i|$$\n",
    "From this, we can see that the taxicab norm is simply summing up the absolute value of each element in $X$.\n",
    "\n",
    "### The Euclidean Norm\n",
    "The Euclidean norm is the most common norm and is defined as:\n",
    "$$\\Vert X\\Vert _2 \\colon = \\sqrt{\\sum_{i=1}^{n}|x_i|^2}$$\n",
    "If $X \\in \\mathbb{C}^n$, then it can be rewritten as:\n",
    "$$\\Vert X\\Vert _2 \\colon = \\sqrt{\\sum_{i=1}^{n}x_i\\overline{x_i}}$$\n",
    "Knowing the definition of an inner product, it's easy to see that the square of the Euclidean norm is the dot product of a vector and itself. (i.e. $\\langle X \\cdot X\\rangle \\equiv \\Vert X\\Vert _2^2$)\n",
    "\n",
    "### The Infinity Norm\n",
    "The infinity norm can be used to find the element with the largest magnitude in the vector and is defined as:\n",
    "$$\\Vert X\\Vert _\\infty \\colon = \\lim_{k\\to\\infty}\\sqrt[\\leftroot{5}\\uproot{5}k]{\\sum_{i=1}^{n}|x_i|^k}$$\n",
    "As k becomes increasingly close to infinity, the largest element in the vector becomes much larger than all of the other elements, rendering them negligible. Then by performing the k'th root, only the largest element is returned.\n",
    "\n",
    "### Norms on Sequence Spaces\n",
    "To perform the p-norm on a sequence space, the summation simply goes to infinity, rather than $n$.\n",
    "$$\\Vert X\\Vert _p \\colon = \\sqrt[\\leftroot{5}\\uproot{5}p]{\\sum_{i=1}^{\\infty}|x_i|^p}$$\n",
    "\n",
    "### Norms on Function Spaces\n",
    "To perform the p-norm on a function space, the summation is replaced by an integral as the data is now continuous rather than discrete.\n",
    "$$\\Vert f\\Vert _{p,S} \\colon = \\sqrt[\\leftroot{5}\\uproot{5}p]{\\int_S|f(x)|^pdx}$$"
   ]
  },
  {
   "cell_type": "markdown",
   "metadata": {},
   "source": [
    "## Norm Visualization\n",
    "To try and visualize how these norms differ, the following image presents three graphs of the \"unit circle\" in the taxicab, Euclidean, and infinity norms.\n",
    "\n",
    "![UnitCircles](https://upload.wikimedia.org/wikipedia/commons/4/4d/Vector_norms.svg)\n",
    "\n",
    "The unit circle is defined as $\\Vert X\\Vert _p = 1$ where $X = \\begin{bmatrix} x_1 \\\\ x_2\\end{bmatrix}$.\n",
    "\n",
    "For the taxicab norm, the unit circle takes on a rhoboid shape since $|x_1|+|x_2|=1$.  \n",
    "For the Euclidian norm, the unit circle actually looks like a circle since the norm follows the familiar formula of a circle which is $\\sqrt{x_1^2 + x_2^2}=1$.  \n",
    "Lastly, the infinity norm's unit circle looks like a square since it essentially follows the formula $max[x_1,  x_2]=1$.\n",
    "\n",
    "The code below plots the unit circle for any given value of p>0. Try out a few different values including values less than 1"
   ]
  },
  {
   "cell_type": "code",
   "execution_count": 81,
   "metadata": {},
   "outputs": [
    {
     "data": {
      "image/png": "[encoded data removed]",
      "text/plain": [
       "<Figure size 432x288 with 1 Axes>"
      ]
     },
     "metadata": {
      "needs_background": "light"
     },
     "output_type": "display_data"
    }
   ],
   "source": [
    "import numpy as np\n",
    "import matplotlib.pyplot as plt\n",
    "\n",
    "#Change the p-value here valid for p>0\n",
    "p=0.5\n",
    "\n",
    "fig = plt.figure()\n",
    "ax = fig.add_subplot(111)\n",
    "x1 = np.linspace(-1.0,1.0,100)\n",
    "x2 = np.linspace(-1.0,1.0,100)\n",
    "X1, X2 = np.meshgrid(x1,x2)\n",
    "F = (abs(X1)**(p) + abs(X2)**(p))**(1.0/(p)) - 1\n",
    "cs = ax.contour(X1, X2, F, [0], colors='b')\n",
    "ax.set_aspect('equal', adjustable='box')\n",
    "title = ax.set_title(f'p={p} Unit Circle')"
   ]
  },
  {
   "cell_type": "markdown",
   "metadata": {},
   "source": [
    "## Cauchy-Schwarz Inequality\n",
    "The triangle inequality (N4), is one of the required properties of a norm and this property is related to the Cauchy-Schwarz Inequaltiy. Which states that in an inner product space $S$ with induced norm  $\\Vert\\cdot\\Vert$,\n",
    "\n",
    "\\begin{gather*}\n",
    "\\vert \\langle x,y \\rangle \\vert \\le \\Vert x \\Vert \\Vert y \\Vert \\label{q:cs}\n",
    "\\end{gather*}\n",
    "\n",
    "for any $x, y \\in S$, with equaility if and only if $y = \\alpha x$ for some scalar $\\alpha$.\n",
    "\n",
    "Givn the Cauchy-Schwarz Inequality we can show that the triangle property holds true for the induced norm or inner product.\n",
    "\n",
    "\\begin{align*}\n",
    "\\Vert x + y\\Vert^2 &= \\Vert x + y\\Vert \\Vert x + y\\Vert\\\\\n",
    "&= \\langle x+y,x+y\\rangle\\\\\n",
    "&= \\langle x,x\\rangle + 2\\langle x,y\\rangle + \\langle y,y\\rangle\\\\\n",
    "&\\le \\langle x,x\\rangle + 2\\Vert x\\Vert\\Vert y\\Vert + \\langle y,y\\rangle\\\\\n",
    "&= (\\Vert x\\Vert + \\Vert y \\Vert)^2\n",
    "\\end{align*}"
   ]
  },
  {
   "cell_type": "markdown",
   "metadata": {},
   "source": [
    "## Norm Equivalence Theorem\n",
    "\n",
    "There are a variety norms to choose from and depending on the situation a specific norm may be better suited that an another. For example it may be easier on some hardware to compute the $\\mathscr{l}_1$ norm since it a square root does not need to be calculated where the $\\mathscr{l}_2$ norm requires a square root. At any rate the exact value of a norm for a vector $x$ change depending on the particular norm used, but a vector that is small with respect to one norm is also small with repect to another norm. Norms are thus equivalent in the sense described in the following theorem.\n",
    "\n",
    "If $\\Vert\\cdot\\Vert$ and $\\Vert\\cdot\\Vert'$ are two norms on $\\mathbb{R}^n$ (or $\\mathbb{C}^n$) then\n",
    "\n",
    "\\begin{equation*}\n",
    "\\Vert x_k\\Vert \\rightarrow 0 \\text{ as } k\\rightarrow\\infty \\text{ if and only if } \\Vert x_k\\Vert'\\rightarrow 0 \\text{ as } k\\rightarrow\\infty\n",
    "\\end{equation*}\n",
    "\n",
    "The proof of this theorem makes use of the Cauchy-Schwarz inequality."
   ]
  },
  {
   "cell_type": "markdown",
   "metadata": {},
   "source": [
    "## Simple Numerical Examples\n",
    "The following python script generates thirty random complex numbers between $0+j0$ and $c_1+jc_2$, and then computes the 1, 2, p, and infinity norms. The $c_1$, $c_2$, $N$, and $p$ values are determined by the user.\n",
    "\n",
    "It is clear to see from the equations above as well as the script below that $\\Vert X\\Vert _1 \\ge \\Vert X\\Vert _2 \\ge \\Vert X\\Vert _p \\ge \\Vert X\\Vert _\\infty$."
   ]
  },
  {
   "cell_type": "code",
   "execution_count": 3,
   "metadata": {
    "scrolled": true
   },
   "outputs": [
    {
     "name": "stdout",
     "output_type": "stream",
     "text": [
      "Answers to the 1, 2, p and infinity norms\n",
      "     *  l1-norm = 87.50507544341995\n",
      "     *  l2-norm = 18.374139770068748\n",
      "     *   p-norm = 8.228005949664501 where p = 5\n",
      "     * inf-norm = 6.1705968192791945\n"
     ]
    }
   ],
   "source": [
    "import numpy as np\n",
    "import random\n",
    "\n",
    "c1 = 5   # complex number real component max\n",
    "c2 = 5   # complex number imaginary component max\n",
    "N = 30   # number of elements in array\n",
    "p = 5    # p-norm value\n",
    "\n",
    "random.seed()\n",
    "x = []\n",
    "for i in range(N):\n",
    "    x.append(c1*random.random() + 1j*c2*random.random())       \n",
    "\n",
    "print('Answers to the 1, 2, p and infinity norms')\n",
    "print('     *  l1-norm = {}'.format(np.linalg.norm(x, 1)))\n",
    "print('     *  l2-norm = {}'.format(np.linalg.norm(x, 2)))\n",
    "print('     *   p-norm = {} where p = {}'.format(np.linalg.norm(x, p), p))\n",
    "print('     * inf-norm = {}'.format(np.linalg.norm(x, np.inf)))\n"
   ]
  },
  {
   "cell_type": "markdown",
   "metadata": {},
   "source": [
    "## An Engineering Example\n",
    "In antenna array applications, it is often important to find the distance between incoming waves that are propagating from the far field, or from large distances away from the antenna, to an antenna. To do this, the Euclidean norm can be imployed.\n",
    "\n",
    "For example, if we have a single antenna situated at some place in our field and we want to know distance from the antenna to a signal coming from $1000\\lambda$ away, where $\\lambda = \\frac{c}{f_c} \\approx \\frac{3x10^8}{f_c}$ and $f_c$ is our operating frequency, and incoming at an arbitrary angle $\\theta$, we can calculate the distance as:\n",
    "$\\Vert R_{ant} - R_{inc}\\Vert$ where $R_{ant} = [x_1, x_2]$ and $R_{inc} = [1000\\lambda cos(\\theta), 1000\\lambda sin(\\theta)]$.\n",
    "\n",
    "In the following example, you can change the location of the antenna and the incoming signal's angle, $\\theta$. The script will then calculate the distance between the incoming signal source and the antenna.\n",
    "\n",
    "The blue dot indicates the source point of the incoming signal and the orange dot indicates the location of the receiving antenna.\n",
    "\n",
    "* *Note*: If the polar plot does not appear, simply run the code again."
   ]
  },
  {
   "cell_type": "code",
   "execution_count": 7,
   "metadata": {},
   "outputs": [
    {
     "name": "stdout",
     "output_type": "stream",
     "text": [
      "Distance between Antenna and Incoming Signal = 325.54686623208823 meters\n"
     ]
    },
    {
     "data": {
      "image/png": "[encoded data removed]",
      "text/plain": [
       "<Figure size 432x288 with 1 Axes>"
      ]
     },
     "metadata": {
      "needs_background": "light"
     },
     "output_type": "display_data"
    }
   ],
   "source": [
    "import numpy as np\n",
    "import math\n",
    "import cmath\n",
    "import matplotlib.pyplot as plt\n",
    "\n",
    "x_ant = 50;      # x position of antenna in meters\n",
    "y_ant = -50;      # y position of antenna in meters\n",
    "theta_inc = np.pi / 3   # incoming signal angle in radians\n",
    "\n",
    "c = 3e8         # speed of light\n",
    "freq = 1e9      # operating frequency is 1GHz\n",
    "wl = c / freq   # wavelength\n",
    "ffr = 1000*wl   # far-field radius\n",
    "\n",
    "# Convert Cartesian Antenna Location to Polar\n",
    "r_ant, theta_ant = cmath.polar(complex(x_ant, y_ant))\n",
    "\n",
    "fig = plt.figure()\n",
    "ax = fig.add_subplot(111, projection='polar')\n",
    "ax.scatter(theta_inc, ffr)\n",
    "ax.scatter(theta_ant, r_ant)\n",
    "\n",
    "dist = np.linalg.norm([x_ant-ffr*math.cos(theta_inc), y_ant-ffr*math.sin(theta_inc)], 2)\n",
    "print('Distance between Antenna and Incoming Signal = {} meters'.format(dist))\n"
   ]
  },
  {
   "cell_type": "markdown",
   "metadata": {},
   "source": [
    "## Example Problem\n",
    "\n",
    "Let $p$ be in the range $0<p<1$, and consider the space $L_p[0,1]$ of all functions with \n",
    "\n",
    "\\begin{align*}\n",
    "\\Vert x\\Vert = \\left[ \\int_0^1 |x(t)|^p dt\\right]^\\frac{1}{p}<\\infty\n",
    "\\end{align*}\n",
    "\n",
    "Show that $\\Vert x \\Vert$ is not a norm on $L_p[0,1]$ Hint: for scalars $\\alpha$ such that $0<\\alpha<1$, note that $\\alpha<\\alpha^p<1$.\n",
    "\n"
   ]
  }
 ],
 "metadata": {
  "kernelspec": {
   "display_name": "Python 3",
   "language": "python",
   "name": "python3"
  },
  "language_info": {
   "codemirror_mode": {
    "name": "ipython",
    "version": 3
   },
   "file_extension": ".py",
   "mimetype": "text/x-python",
   "name": "python",
   "nbconvert_exporter": "python",
   "pygments_lexer": "ipython3",
   "version": "3.7.6"
  }
 },
 "nbformat": 4,
 "nbformat_minor": 4
}

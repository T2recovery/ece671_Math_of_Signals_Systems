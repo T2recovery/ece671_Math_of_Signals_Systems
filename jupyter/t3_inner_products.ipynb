{
 "cells": [
  {
   "cell_type": "markdown",
   "metadata": {
    "colab_type": "text",
    "id": "f4DlkBzreQI1"
   },
   "source": [
    "# Introduction\n",
    "\n",
    "Inner product space is a vector space with a function referred to as the inner product. The inner product returns a scalar and defines an angle between two vectors. A valid inner product holds certain properties, which are detailed below. A complete inner product space is referred to as a Hilbert space.\n"
   ]
  },
  {
   "cell_type": "markdown",
   "metadata": {
    "colab_type": "text",
    "id": "IiJt8u2F4VPq"
   },
   "source": [
    "# Detailed Discussion\n",
    "\n",
    "An inner product space is a subspace of metric and norm spaces. An inner product space is a vector space with an inner product. An inner product is written generally as:\n",
    "\\begin{equation}\n",
    "<\\cdot,\\cdot>~:~\\mathbf{V}\\times \\mathbf{V}\\rightarrow \\mathbf{S}\n",
    "\\end{equation}\n",
    "that is the inner product maps vectors to a scalar value (can be complex). This scalar value can be interpreted as an angle.  The inner product of two vectors is also used to determine orthogonality (inner product is equal to zero), which is important in many signal processing applications. Examples include the Cauchy-Schwartz inequality and the projection theorem. A valid inner product has the following properties:\n",
    "\\begin{equation}\n",
    "    <x,y>~=~\\overline{<y,x>}\n",
    "\\end{equation}   \n",
    "\\begin{align}\n",
    "    & <\\alpha x,y>~=~\\alpha<y,x>\\nonumber\\\\\n",
    "    & <x,\\alpha y>~=~\\overline{\\alpha}<y,x>\n",
    "\\end{align}  \n",
    "\\begin{equation}\n",
    "    <x+y,z>~=~<x,z>~+~<y,z>\n",
    "\\end{equation}  \n",
    "\\begin{equation}\n",
    "    <x,x>~\\geq~0\n",
    "\\end{equation}\n",
    "The last being equal to zero if and only if $x=0$.\n",
    "\n",
    "# Examples of Inner Products\n",
    "\n",
    "Below are examples of various spaces with valid inner products.\n",
    "## Real Numbers ($\\mathbb{R}$)\n",
    "A valid inner product for real numbers is multiplication:\n",
    "\\begin{equation}\n",
    "    <x,y>~:=~xy\n",
    "\\end{equation}\n",
    "\n",
    "## Euclidean Space ($\\mathbb{C}^n$)\n",
    "For $\\mathbf{x},\\mathbf{y}~\\epsilon~\\mathbb{C}^n$ the inner product is defined as :\n",
    "\\begin{align}\n",
    "    &<\\mathbf{x},\\mathbf{y}>~=~x_1y_1 + x_2y_2 + \\cdots + x_ny_n \\\\\n",
    "    & =~\\mathbf{y}^H\\mathbf{x}~=~\\mathbf{x}^H\\mathbf{y}\n",
    "\\end{align}\n",
    "This inner product is referred to as the Euclidean inner product or the dot product.\n",
    "\n",
    "## Hilbert Spaces\n",
    "A Hilbert space is a complete normed vector space with an inner product. A complete vector space means that every Cauchy sequence in $\\mathbf{X}$ converges to an element in $\\mathbf{X}$. The sequence space $l_p(0,\\infty)$ and $L_p[a,b]$ are Hilbert spaces with valid inner products when $p=2$. The Euclidean space mentioned above is also a Hilbert space. The inner product for $L_2[a,b]$ is:\n",
    "\\begin{equation}\n",
    "<f(x),g(x)>~:=~\\int f(x)\\overline{g(x)}\n",
    "\\end{equation}\n",
    "The inner product for $l_2(0,\\infty)$ is:\n",
    "\\begin{equation}\n",
    "<\\mathbf{x},\\mathbf{y}>~:=~\\sum_{i=0}^\\infty x_iy_i\n",
    "\\end{equation}\n",
    "\n",
    "## Random Variables\n",
    "Two random variables $\\mathbf{X}$ and $\\mathbf{Y}$ have the following inner product which is the expectation of their product:\n",
    "\\begin{equation}\n",
    "<\\mathbf{X},\\mathbf{Y}>~:=~\\mathbf{E}(\\mathbf{XY})\n",
    "\\end{equation}\n",
    "\n",
    "## Real Matrices\n",
    "Real matrices have the following inner product, where $\\mathbf{A}$ and $\\mathbf{B}$ are not necessarily square matrices:\n",
    "\\begin{equation}\n",
    "    <\\mathbf{A},\\mathbf{B}>~:=~\\text{tr}(\\mathbf{AB}^T)\n",
    "\\end{equation}\n",
    "\n",
    "## Induced Norm\n",
    "Every inner product induces a norm, which means that every inner product space is a normed vector space. The induced norm is defined as follows:\n",
    "\\begin{equation}\n",
    "    ||x||~=~\\sqrt{<x,x>}\n",
    "\\end{equation}\n"
   ]
  },
  {
   "cell_type": "markdown",
   "metadata": {},
   "source": [
    "# Intuitive Discussion and Examples\n",
    "A good way to think of an inner product is how related or correlated are two things. For example, the inner product of two vectors will give us an idea of how much of one vector is in the other vector. If the two vectors are orthogonal, then the inner product is zero, indicating no correlation. \n",
    "\n",
    "Two or three dimensional inner products are easy to visualize geometrically, but what about higher dimensional spaces? Consider a video game with a character editor that has five facial features you can alter: eye color, nose shape, ear size, chin size, and mouth size. Each feature is on a scale of -10 to 10 so that a five dimensional vector would represent a unique set of facial features. So let vectors A and B represent two different faces.\n",
    "\n",
    "\\begin{equation}\n",
    "  A=\n",
    "  \\left[ {\\begin{array}{cc}\n",
    "   1 \\\\\n",
    "   -3 \\\\\n",
    "   10 \\\\\n",
    "   -5 \\\\\n",
    "   8 \\\\\n",
    "  \\end{array} } \\right] \\qquad\n",
    "  B=\n",
    "  \\left[ {\\begin{array}{cc}\n",
    "   4 \\\\\n",
    "   -6 \\\\\n",
    "   2 \\\\\n",
    "   -9 \\\\\n",
    "   8 \\\\\n",
    "  \\end{array} } \\right] \n",
    "\\end{equation}\n",
    "\n",
    "Now if we normailze the vectors and take the inner product two, we get an idea of much these two faces look alike. A face has the highest correlated with itself, so that the inner product of face A with itself is equal to 1. By manipulating faces A and B to have more similar features, we can bring the inner product closer to one. Alternatively, making A and B look less alike will drive the the inner product closer to zero. Below is some sample code that demonstrates this example.\n"
   ]
  },
  {
   "cell_type": "code",
   "execution_count": 1,
   "metadata": {},
   "outputs": [
    {
     "name": "stdout",
     "output_type": "stream",
     "text": [
      "Face A:  [1, -3, 10, -5, 8]\n",
      "Face B:  [4, -6, 2, -9, 8]\n",
      "Face A similarity with itself:  [[1.]]\n",
      "Face B similarity with itself:  [[1.]]\n",
      "Faces A and B similarity:  [[0.75500944]]\n",
      "Making Faces A and B more similar:  [[0.92853228]]\n",
      "Making Faces A and B less similar:  [[0.32177249]]\n"
     ]
    }
   ],
   "source": [
    "import numpy as np\n",
    "import numpy.linalg as la\n",
    "import matplotlib.pyplot as plt\n",
    "\n",
    "def Euclid_inner_p (A,B):\n",
    "  am = np.matrix(A)\n",
    "  bm = np.matrix(B)\n",
    "  bm = bm.getH()\n",
    "  result = am * bm\n",
    "  return result\n",
    "\n",
    "#Two \"face\" vectors\n",
    "A = [1,-3,10,-5,8]\n",
    "B = [4,-6,2,-9,8]\n",
    "#Normalized vectors\n",
    "a = A/la.norm(A)\n",
    "b = B/la.norm(B)\n",
    "\n",
    "#faces' similarity with itself\n",
    "aaFaceSim = Euclid_inner_p(a,a)\n",
    "bbFaceSim = Euclid_inner_p(b,b)\n",
    "\n",
    "#Faces A and B similarity\n",
    "abFaceSim = Euclid_inner_p(a,b)\n",
    "\n",
    "#making faces more similar\n",
    "A = [2,-3,4,-5,8]\n",
    "B = [4,-6,2,-9,8]\n",
    "a = A/la.norm(A)\n",
    "b = B/la.norm(B)\n",
    "abFaceSimMore = Euclid_inner_p(a,b)\n",
    "\n",
    "#making faces less similar\n",
    "A = [1,-3,10,-3,8]\n",
    "B = [5,8,2,-9,4]\n",
    "a = A/la.norm(A)\n",
    "b = B/la.norm(B)\n",
    "abFaceSimLess = Euclid_inner_p(a,b)\n",
    "\n",
    "#reset A and B\n",
    "A = [1,-3,10,-5,8]\n",
    "B = [4,-6,2,-9,8]\n",
    "#Show results\n",
    "print(\"Face A: \", A)\n",
    "print(\"Face B: \", B)\n",
    "print(\"Face A similarity with itself: \", aaFaceSim)\n",
    "print(\"Face B similarity with itself: \", bbFaceSim)\n",
    "print(\"Faces A and B similarity: \", abFaceSim)\n",
    "print(\"Making Faces A and B more similar: \", abFaceSimMore)\n",
    "print(\"Making Faces A and B less similar: \", abFaceSimLess)"
   ]
  },
  {
   "cell_type": "markdown",
   "metadata": {},
   "source": [
    "# Physics Application: Solving Fourier Series\n",
    "Another application of inner products is demonstrated in physics. In electrostatics, a two dimensional potential surface can be described using Laplace's equation.\n",
    "\\begin{equation}\n",
    "    \\frac{\\partial^2 V}{\\partial x^2} + \\frac{\\partial^2 V}{\\partial y^2} = 0\n",
    "\\end{equation}\n",
    "Subject to the following boundary conditions\n",
    "\\begin{equation}\n",
    "    (i)\\quad V = 0 \\quad when \\quad y=0 \\\\\n",
    "    (ii)\\quad V = 0 \\quad when \\quad y = a \\\\\n",
    "    (iii)\\quad V = V_0(y) \\quad when \\quad x = 0 \\\\\n",
    "    (iv)\\quad V \\rightarrow 0 \\quad as \\quad x\\rightarrow \\infty\n",
    "\\end{equation}\n",
    "We will solve this equation by using serpation of variables. First we assume that V is of the form\n",
    "\\begin{equation}\n",
    "    V(x,y) = X(x)Y(y)\n",
    "\\end{equation}\n",
    "By substituting this assumption into Laplace's equation, we have\n",
    "\\begin{equation}\n",
    "    Y\\frac{\\partial^2 V}{\\partial x^2} + X\\frac{\\partial^2 V}{\\partial y^2} = 0\n",
    "\\end{equation}\n",
    "We then \"seperate the variables\" so that each term is all x or all y.\n",
    "\\begin{equation}\n",
    "    \\frac{1}{X}\\frac{\\partial^2 V}{\\partial x^2} +\\frac{1}{Y}\\frac{\\partial^2 V}{\\partial y^2} = 0\n",
    "\\end{equation}\n",
    "Since neither term depends on both x and y, it must be that each term is constant so that the sum is always zero, regardless if x or y changes. It follows that\n",
    "\\begin{equation}\n",
    "    \\frac{1}{X}\\frac{\\partial^2 V}{\\partial x^2} = C_1 \\quad and \\quad \\frac{1}{Y}\\frac{\\partial^2 V}{\\partial y^2} = C_2, \\qquad with \\quad C_1 + C_2 = 0\n",
    "\\end{equation}\n",
    "We can now solve these equations.\n",
    "\\begin{equation}\n",
    "    \\frac{\\partial^2 V}{\\partial x^2} = k^2X \\quad and \\quad \\frac{\\partial^2 V}{\\partial y^2} = -k^2Y, \\qquad with \\quad C_1 + C_2 = 0 \\\\ \\\\\n",
    "    X(x) = Ae^{kx}+Be^{-kx}, \\qquad Y(y) = C\\sin(ky) +D\\cos(ky) \\\\ \\\\\n",
    "    V(x,y) = (Ae^{kx}+Be^{-kx})(C\\sin(ky) +D\\cos(ky)) \\\\\n",
    "\\end{equation}\n",
    "By the boundary condition (iv) of a finite potential, A = 0, leaving us with\n",
    "\\begin{equation}\n",
    "    V(x,y) = (Be^{-kx})(C\\sin(ky) +D\\cos(ky))\n",
    "\\end{equation}\n",
    "Condition (i) demants that D equal zero as well. So after combining constants, we have\n",
    "\\begin{equation}\n",
    "    V(x,y) = Ce^{-kx}\\sin(ky)\n",
    "\\end{equation}\n",
    "Condition (ii) yields \\sin(ka) = 0, which indicates\n",
    "\\begin{equation}\n",
    "    k = \\frac{n\\pi}{a},\\qquad (n = 1,2,3,...)\n",
    "\\end{equation}\n",
    "Since Laplace's equation is linear, we can expand our answer as an infinite sum and apply the third boundary condition.\n",
    "\\begin{equation}\n",
    "    V(0,y) = \\sum\\limits_{n=1}^\\infty C_n \\sin(n \\pi y/a) = V_0(y)\n",
    "\\end{equation}\n",
    "You may recognize this as a Fourier's Series. But how do we actually determine the coefficients $C_n$? This is where we use the inner product. By multiplying each side by $\\sin(m\\pi y/a)$ where m is a positive integer, and integrating from 0 to a, we establish the left hand side as the $L_2$ or function inner product of two sine waves.\n",
    "\\begin{equation}\n",
    "   \\sum\\limits_{n=1}^\\infty C_n \\int_0^a \\sin(m \\pi y/a)\\sin(n \\pi y/a) dy = \\int_0^a V_0(y) \\sin(m \\pi y/a) dy\n",
    "\\end{equation}\n",
    "The inner product, by the orthogonality of sines, evaluates to 0 if $n \\neq m$ and $\\frac{a}{2}$ if $n = m$. Thus, by using the inner product, all the sine terms except one drop out and $C_n$ becomes\n",
    "\\begin{equation}\n",
    "    C_n = \\frac{2}{a} \\int_0^a V_0(y)\\sin(n \\pi y/a) dy\n",
    "\\end{equation}\n",
    "By solving the integral, we see that if $n$ is even, $C_n$ is 0. If n is odd, then $C_n$ is equal to $\\frac{4V_0}{n\\pi}$. Thus, our final answer for our potential surface is:\n",
    "\\begin{equation}\n",
    "    V(x,y) = \\frac{4V_0}{\\pi} \\sum\\limits_{n=1,3,5,...} \\frac{1}{n} e^{-n\\pi x/a} \\sin(n\\pi y/a)\n",
    "\\end{equation}"
   ]
  },
  {
   "cell_type": "markdown",
   "metadata": {
    "colab_type": "text",
    "id": "zEX9rtZIbale"
   },
   "source": [
    "# Simple Code Example\n",
    "\n",
    "The following are two simple examples of two different inner products, one is performed on matrices and the other on functions. The results of the inner products below show orthogonality between the arguments. The first is an inner product between two complex matrices. The other is an inner product performed on two orthogonal functions on the interval $[-1,1]$."
   ]
  },
  {
   "cell_type": "code",
   "execution_count": 0,
   "metadata": {
    "colab": {
     "base_uri": "https://localhost:8080/",
     "height": 488
    },
    "colab_type": "code",
    "executionInfo": {
     "elapsed": 884,
     "status": "ok",
     "timestamp": 1544235860133,
     "user": {
      "displayName": "Nolan Hutchings",
      "photoUrl": "",
      "userId": "02213805089671611088"
     },
     "user_tz": 420
    },
    "id": "gC_O2LXIc_HJ",
    "outputId": "4e333e2e-2c8d-427f-fc0a-b5c2e7c6ab5b"
   },
   "outputs": [
    {
     "name": "stdout",
     "output_type": "stream",
     "text": [
      "A:  [1j, 0, 1]\n",
      "B:  [0, 9, 0]\n",
      "Result of the inner product of the two vectors:\n",
      "[[0.+0.j]]\n",
      "\n"
     ]
    },
    {
     "data": {
      "image/png": "[encoded data removed]",
      "text/plain": [
       "<matplotlib.figure.Figure at 0x7f9c3ca00470>"
      ]
     },
     "metadata": {
      "tags": []
     },
     "output_type": "display_data"
    },
    {
     "name": "stdout",
     "output_type": "stream",
     "text": [
      "Result of the inner product of the two lines:\n",
      "-3.469446951953614e-18\n",
      "The result is essentially zero.\n"
     ]
    }
   ],
   "source": [
    "import numpy as np\n",
    "import matplotlib.pyplot as plt\n",
    "\n",
    "def Euclid_inner_p (A,B):\n",
    "  am = np.matrix(A)\n",
    "  bm = np.matrix(B)\n",
    "  bm = bm.getH()\n",
    "  result = am * bm\n",
    "  return result\n",
    "\n",
    "def Function_inner_p(t,F,G):\n",
    "  Fa = np.array(F)\n",
    "  Ga = np.array(G)\n",
    "  ta = np.array(t) # time\n",
    "  temp = np.multiply(Fa,Ga)\n",
    "  result = np.trapz(temp,ta) # integrate\n",
    "  return result\n",
    "\n",
    "# Two simple orthogonal complex matrices\n",
    "A = [1.j,0,1]\n",
    "B = [0,9,0]\n",
    "\n",
    "result = Euclid_inner_p(A,B)\n",
    "\n",
    "print(\"A: \",A)\n",
    "print(\"B: \",B)\n",
    "print(\"Result of the inner product of the two vectors:\")\n",
    "print(result)\n",
    "print()\n",
    "\n",
    "# Simple orthogonal functions on [-1,1]\n",
    "t = np.linspace(-1,1,100)\n",
    "F = t\n",
    "G = t**2\n",
    "\n",
    "result2 = Function_inner_p(t,F,G)\n",
    "\n",
    "# Plot the two lines\n",
    "plt.plot(t,F)\n",
    "plt.plot(t,G)\n",
    "plt.show()\n",
    "\n",
    "# Result of the inner product\n",
    "print(\"Result of the inner product of the two lines:\")\n",
    "print(result2)\n",
    "print(\"The result is essentially zero.\")"
   ]
  },
  {
   "cell_type": "markdown",
   "metadata": {
    "colab_type": "text",
    "id": "9urdl4LTeaiy"
   },
   "source": [
    "# Engineering Code Example\n",
    "\n",
    "The following code is an example of the Gram Schmidt process, which orthonormalizes a set of matrices.  Gram Schmidt uses the inner product and the induced norm to accomplish this. The orthonormal matrices are used to find a linear combination of functions that approximate the actual function. This could be applied to any function that you need to approximate. Below a linear cobination of $1$, $t$, and $t^2$ are used to approximate $e^{-t}$ on $[0,3]$. A plot of the actual data and the approximation are shown, along with the coefficients of $1$, $t$, and $t^2$ used to make the approximation.\n"
   ]
  },
  {
   "cell_type": "code",
   "execution_count": 0,
   "metadata": {
    "colab": {
     "base_uri": "https://localhost:8080/",
     "height": 748
    },
    "colab_type": "code",
    "executionInfo": {
     "elapsed": 772,
     "status": "ok",
     "timestamp": 1543970856091,
     "user": {
      "displayName": "Nolan Hutchings",
      "photoUrl": "",
      "userId": "02213805089671611088"
     },
     "user_tz": 420
    },
    "id": "FWE1kHeNeaEz",
    "outputId": "b720e852-13ae-4f42-ee66-e5272a022a43"
   },
   "outputs": [
    {
     "name": "stdout",
     "output_type": "stream",
     "text": [
      "Plot of the actual data\n"
     ]
    },
    {
     "data": {
      "image/png": "[encoded data removed]",
      "text/plain": [
       "<matplotlib.figure.Figure at 0x7fbeacc9e940>"
      ]
     },
     "metadata": {
      "tags": []
     },
     "output_type": "display_data"
    },
    {
     "name": "stdout",
     "output_type": "stream",
     "text": [
      "Plot of the approximation\n"
     ]
    },
    {
     "data": {
      "image/png": "[encoded data removed]",
      "text/plain": [
       "<matplotlib.figure.Figure at 0x7fbeaa3d5a20>"
      ]
     },
     "metadata": {
      "tags": []
     },
     "output_type": "display_data"
    },
    {
     "name": "stdout",
     "output_type": "stream",
     "text": [
      "Coeffitients:\n",
      "[0.5486061041436288, -0.4163126284419313, 0.15180819354490815]\n"
     ]
    }
   ],
   "source": [
    "import numpy as np\n",
    "import matplotlib.pyplot as plt\n",
    "\n",
    "def inner_p(t,F,G): # inner product of two functions\n",
    "  temp = np.multiply(F,G)\n",
    "  result = np.trapz(temp,t) # use trapz to approximate integration\n",
    "  return result\n",
    "\n",
    "def norm(t,F): # induced norm for the inner product\n",
    "  result = np.sqrt(inner_p(t,F,F))\n",
    "  return result\n",
    "\n",
    "def proj(t,y,e): # project y onto e\n",
    "  temp = np.multiply(y,e)\n",
    "  result = np.trapz(temp,t)\n",
    "  return result\n",
    "\n",
    "num = 1000\n",
    "\n",
    "t = np.linspace(0,3,num).T\n",
    "# actual data\n",
    "y = np.exp(-t)\n",
    "\n",
    "# Plot the actual data\n",
    "print(\"Plot of the actual data\")\n",
    "plt.plot(t,y)\n",
    "plt.show()\n",
    "\n",
    "# Create 3 lists, each with 100 items, all set to 0\n",
    "p = np.zeros((3,num))\n",
    "e = np.zeros((3,num))\n",
    "q = np.zeros((3,num))\n",
    "total = np.zeros((3,num))\n",
    "\n",
    "# the signal is a linear combination of the following functions\n",
    "p[2][:] = t**2\n",
    "p[1][:] = t\n",
    "p[0][:] = np.linspace(1,1,num) # an array of ones\n",
    "\n",
    "# Perform Gram Schmidt\n",
    "# to find orthonormal basis\n",
    "for kk in range(0, 3):\n",
    "  if kk == 0:\n",
    "    e[kk][:] = p[kk][:]/norm(t,p[kk][:])\n",
    "  else:\n",
    "    for n in range(0,kk):\n",
    "      total[kk][:] = total[kk][:] + inner_p(t,p[kk][:],e[n][:])*e[n][:]\n",
    "    # end of for loop\n",
    "    q[kk][:] = p[kk][:] - total[kk][:]\n",
    "    e[kk][:] = q[kk][:]/norm(t,q[kk][:])\n",
    "  # end of if statement\n",
    "\n",
    "y_approx = np.zeros(num) \n",
    "scale = [0,0,0]\n",
    "\n",
    "# Project y_noise onto each orthonormal basis e \n",
    "for kk in range(0,3):\n",
    "  scale[kk] = proj(t,y,e[kk][:]) # project using the inner product\n",
    "  y_approx = y_approx + scale[kk]*e[kk][:]\n",
    "\n",
    "print(\"Plot of the approximation\")\n",
    "plt.plot(t,y_approx)\n",
    "plt.show()\n",
    "\n",
    "print(\"Coeffitients:\")\n",
    "print(scale)\n",
    "\n",
    "\n"
   ]
  },
  {
   "cell_type": "markdown",
   "metadata": {
    "colab_type": "text",
    "id": "xwVBGvrdY2mn"
   },
   "source": [
    "# References\n",
    "\n",
    "[1] Mathmatical Methods and Algorithms for Signal Processing, Moon and Sterling 2000\n",
    "\n",
    "[2] Orthogonal Functions, Wikipedia, https://en.wikipedia.org/wiki/Orthogonal_functions\n",
    "\n",
    "[3] Inner Product Space, Wikipedia, https://en.wikipedia.org/wiki/Inner_product_space"
   ]
  }
 ],
 "metadata": {
  "colab": {
   "collapsed_sections": [],
   "name": "inner_product.ipynb",
   "provenance": [],
   "version": "0.3.2"
  },
  "kernelspec": {
   "display_name": "Python 3",
   "language": "python",
   "name": "python3"
  },
  "language_info": {
   "codemirror_mode": {
    "name": "ipython",
    "version": 3
   },
   "file_extension": ".py",
   "mimetype": "text/x-python",
   "name": "python",
   "nbconvert_exporter": "python",
   "pygments_lexer": "ipython3",
   "version": "3.7.1"
  }
 },
 "nbformat": 4,
 "nbformat_minor": 1
}

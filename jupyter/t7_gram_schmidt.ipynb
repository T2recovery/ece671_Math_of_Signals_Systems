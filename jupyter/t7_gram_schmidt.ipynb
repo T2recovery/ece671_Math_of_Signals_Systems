{
 "cells": [
  {
   "cell_type": "markdown",
   "metadata": {},
   "source": [
    "[Table of Contents](table_of_contents.ipynb)"
   ]
  },
  {
   "cell_type": "markdown",
   "metadata": {},
   "source": [
    "# Topic 7.  Gram-Schmidt Orthogonalization\n",
    "Author: Jaron Ellingson, jaronce@byu.edu\n",
    "    "
   ]
  },
  {
   "cell_type": "markdown",
   "metadata": {},
   "source": [
    "##  Introduction\n",
    "\n",
    "Gram-Schmit Orthogonalization (sometimes refered to as the Gram-Schmidt Process) takes a set of vectors and finds an orthonormal basis which spans that set of vectors. The importance of the Gram-Schmidt Process lies in the fact that sometimes it is convienent to have an orthonormal basis for a set of vectors. Once you have an orthonormal basis, you can find the fourier decomposition, and other series representations such as spherical harmonics and Bessel functions. In addition, this process can be applied to other norm and inner product spaces such as $\\mathcal{L}_{2}$, which allows for finding an orthonormal set of functions."
   ]
  },
  {
   "cell_type": "markdown",
   "metadata": {},
   "source": [
    "## Explanation of the theory"
   ]
  },
  {
   "cell_type": "markdown",
   "metadata": {},
   "source": [
    "Given a set of of vectors $\\textit{T}$ = $\\{\\textbf{p}_1,\\textbf{p}_2,\\dotso,\\textbf{p}_{n}\\}$ we want to find set of vectos $\\textit{T'}$ = $\\{\\textbf{e}_1,\\textbf{e}_2,\\dotso,\\textbf{e}_{n'}\\}$ with $n'\\leq n$ so that\n",
    "\n",
    "\\begin{equation}\n",
    "span\\{\\textbf{e}_1,\\textbf{e}_2,\\dotso,\\textbf{e}_{n'}\\} = span\\{\\textbf{p}_1,\\textbf{p}_2,\\dotso,\\textbf{p}_{n}\\}\n",
    "\\end{equation}\n",
    "and \n",
    "\\begin{equation}\n",
    "\\left\\langle \\textbf{e}_i,\\textbf{e}_j \\right\\rangle = \\delta_{i,j}\n",
    "\\end{equation}\n",
    "Assume that none of the $\\textbf{p}_i$ vectors are zero vectors."
   ]
  },
  {
   "cell_type": "markdown",
   "metadata": {},
   "source": [
    "The process will be developed stepwise. The norm $\\left\\lVert \\cdot  \\right\\Vert$ is the induced norm.\n",
    "\n",
    "1. Normalize the first vector\n",
    "\\begin{equation}\n",
    "\\textbf{e}_1 = \\frac{\\textbf{p}_1}{\\left\\lVert \\textbf{p}_1 \\right\\Vert}\n",
    "\\end{equation} \n",
    "2. Compute the difference between the projection of $\\textbf{p}_2$ onto $\\textbf{q}_1$ and $\\textbf{p}_2$ by the orthogonality theorem, this is orthogonal to $\\textbf{p}_1$:\n",
    "\\begin{equation}\n",
    "\\textbf{q}_2 = \\textbf{p}_2 - \\left\\langle \\textbf{p}_2,\\textbf{e}_1 \\right\\rangle \\textbf{e}_1\n",
    "\\end{equation} \n",
    "If $\\textbf{q}_2 = 0$, then $\\textbf{e}_2 \\in span(\\textbf{e})_1$ and can be discarded; we well asume that such discards are done as necessary in what follows. If $\\textbf{q}_2 \\neq 0$,then normalize\n",
    "\\begin{equation}\n",
    "\\textbf{e}_2 = \\frac{\\textbf{q}_2}{\\left\\lVert \\textbf{q}_2 \\right\\Vert}\n",
    "\\end{equation} \n",
    "\n",
    "These steps are shown in the figure below."
   ]
  },
  {
   "cell_type": "code",
   "execution_count": 2,
   "metadata": {},
   "outputs": [
    {
     "data": {
      "text/plain": [
       "(-3, 3, -2, 2)"
      ]
     },
     "execution_count": 2,
     "metadata": {},
     "output_type": "execute_result"
    },
    {
     "data": {
      "image/png": "[encoded data removed]",
      "text/plain": [
       "<matplotlib.figure.Figure at 0x7f35140d3898>"
      ]
     },
     "metadata": {
      "needs_background": "light"
     },
     "output_type": "display_data"
    }
   ],
   "source": [
    "%matplotlib inline\n",
    "import matplotlib.pyplot as plt\n",
    "\n",
    "plt.grid(False)\n",
    "plt.arrow(-1, -1, 2, 1.5, color=\"Red\", head_width=.1, length_includes_head=True)\n",
    "plt.arrow(-1, -1, 3, 0, color=\"Red\", head_width=.1, length_includes_head=True)\n",
    "plt.arrow(-1, -1, 2, 0, color=\"Green\", head_width=.1, length_includes_head=True)\n",
    "plt.arrow(1, -1, 0, 1.5, color=\"Black\", head_width=.1, length_includes_head=True)\n",
    "plt.arrow(-1, -1, 0.75, 0, color=\"Blue\", head_width=.1, length_includes_head=True)\n",
    "plt.arrow(-1, -1, 0, 0.75, color=\"Blue\", head_width=.1, length_includes_head=True)\n",
    "plt.text(-.5, -1.25,\"$e_1$\", color=\"Blue\",size=14)\n",
    "plt.text(-1.14, 0,\"$e_2$\", color=\"Blue\",size=14)\n",
    "plt.text(1.5, -1.25,\"$p_1$\", color=\"Red\",size=14)\n",
    "plt.text(.5, 0.5,\"$p_2$\", color=\"Red\",size=14)\n",
    "plt.text(1.1, 0.25,\"$q_2$\", color=\"Black\",size=14)\n",
    "#plt.text(1.1, 0.25,\"$q_2 = p_2 - proj_{p_1}(p_2)$\", color=\"Black\",size=14)\n",
    "plt.axis((-3, 3, -2, 2))\n",
    "#plt.axis('off')"
   ]
  },
  {
   "cell_type": "markdown",
   "metadata": {},
   "source": [
    "3. At the next stage, a vector orthongonal to $\\textbf{e}_1$ and $\\textbf{e}_2$ obained from the error between $\\textbf{p}_3$ and its projection onto span($\\textbf{e}_1,\\textbf{e}_2$):\n",
    "\n",
    "\\begin{equation}\n",
    "\\textbf{q}_3 = \\textbf{p}_3 - \\left\\langle \\textbf{p}_3,\\textbf{e}_1 \\right\\rangle \\textbf{e}_1 - \\left\\langle \\textbf{p}_3,\\textbf{e}_2 \\right\\rangle \\textbf{e}_2\n",
    "\\end{equation} \n",
    "\n",
    "This is normalized to produce $\\textbf{e}_3$\n",
    "\n",
    "\\begin{equation}\n",
    "\\textbf{e}_3 = \\frac{\\textbf{q}_3}{\\left\\lVert \\textbf{q}_3 \\right\\Vert}\n",
    "\\end{equation} "
   ]
  },
  {
   "cell_type": "code",
   "execution_count": 3,
   "metadata": {},
   "outputs": [
    {
     "data": {
      "text/plain": [
       "(-3, 3, -2, 2)"
      ]
     },
     "execution_count": 3,
     "metadata": {},
     "output_type": "execute_result"
    },
    {
     "data": {
      "image/png": "[encoded data removed]",
      "text/plain": [
       "<matplotlib.figure.Figure at 0x7f34d758fe10>"
      ]
     },
     "metadata": {
      "needs_background": "light"
     },
     "output_type": "display_data"
    }
   ],
   "source": [
    "plt.grid(False)\n",
    "plt.arrow(-1, 0, 1.5, 1, color=\"Red\", head_width=.1, length_includes_head=True)\n",
    "#plt.arrow(-1, -1, 3, 0, color=\"Red\", head_width=.1, length_includes_head=True)\n",
    "plt.arrow(-1, 0, 1.5, -1, color=\"Green\", head_width=.1, length_includes_head=True)\n",
    "plt.arrow(0.5, -1, 0, 2, color=\"Black\", head_width=.1, length_includes_head=True)\n",
    "plt.arrow(-1, 0, 0.75, 0, color=\"Blue\", head_width=.1, length_includes_head=True)\n",
    "plt.arrow(-1, 0, -0.5, -0.5, color=\"Blue\", head_width=.1, length_includes_head=True)\n",
    "plt.arrow(-1, 0, 0, 0.75, color=\"Blue\", head_width=.1, length_includes_head=True)\n",
    "plt.arrow(0.5, -1, 0, 0.75, color=\"Blue\", head_width=.1, length_includes_head=True)\n",
    "plt.text(-.5, .15,\"$e_1$\", color=\"Blue\",size=14)\n",
    "plt.text(-1.14, 1,\"$e_2$\", color=\"Blue\",size=14)\n",
    "plt.text(-1.8, -.7,\"$e_3$\", color=\"Blue\",size=14)\n",
    "#plt.text(1.5, -1.25,\"$p_1$\", color=\"Red\",size=14)\n",
    "plt.text(0, 1.1,\"$p_3$\", color=\"Red\",size=14)\n",
    "plt.text(0.6, 0.7,\"$q_2$\", color=\"Black\",size=14)\n",
    "#plt.text(1.1, 0.25,\"$q_2 = p_2 - proj_{p_1}(p_2)$\", color=\"Black\",size=14)\n",
    "plt.axis((-3, 3, -2, 2))\n",
    "#plt.axis('off')"
   ]
  },
  {
   "cell_type": "markdown",
   "metadata": {},
   "source": [
    "4. Now proceed inductively: To form the next orthongoanl vecotr using $\\textbf{p}_k$, determine the component orthongonal to all previously found vectors.\n",
    "\n",
    "\\begin{equation}\n",
    "\\textbf{q}_k = \\textbf{p}_k - \\sum_{i=1}^{k-1} \\left\\langle \\textbf{p}_k,\\textbf{e}_i \\right\\rangle \\textbf{e}_i\n",
    "\\end{equation}\n",
    "\n",
    "and normalize \n",
    "\n",
    "\\begin{equation}\n",
    "\\textbf{e}_k = \\frac{\\textbf{q}_k}{\\left\\lVert \\textbf{q}_k \\right\\Vert}\n",
    "\\end{equation} "
   ]
  },
  {
   "cell_type": "markdown",
   "metadata": {},
   "source": [
    "## Simple Numerical Examples\n",
    "\n",
    "### Example #1\n",
    "Given a set of vectors (shown here as test and test2), this function calculates the gram schmidt orthonormalization of the set. This example prints out the final results from the function.\n"
   ]
  },
  {
   "cell_type": "code",
   "execution_count": 4,
   "metadata": {},
   "outputs": [
    {
     "name": "stdout",
     "output_type": "stream",
     "text": [
      "[[ 0.9486833   0.31622777]\n",
      " [-0.31622777  0.9486833 ]]\n",
      "[[ 0.70710678  0.70710678  0.        ]\n",
      " [-0.57735027  0.57735027  0.57735027]\n",
      " [ 0.40824829 -0.40824829  0.81649658]]\n"
     ]
    }
   ],
   "source": [
    "import numpy as np\n",
    "\n",
    "def gram_schmidt(vectors):\n",
    "    basis = []\n",
    "    for v in vectors:\n",
    "        w = v - np.sum( np.dot(v,b)*b  for b in basis )\n",
    "        if (w > 1e-10).any():  \n",
    "            basis.append(w/np.linalg.norm(w))\n",
    "    return np.array(basis)\n",
    "\n",
    "test = np.array([[3.0, 1.0], [2.0, 2.0]])\n",
    "test2 = np.array([[1.0, 1.0, 0.0], [1.0, 3.0, 1.0], [2.0, -1.0, 1.0]])\n",
    "\n",
    "print(np.array(gram_schmidt(test)))\n",
    "print(np.array(gram_schmidt(test2)))"
   ]
  },
  {
   "cell_type": "markdown",
   "metadata": {},
   "source": [
    "### Example #2\n",
    "The gram schmidt method can also be used for QR decomposition (A = Q\\*R). Where Q (Q\\*transpose(Q) = Idenity) is a unitary matrix and R is an upper triangular matrix."
   ]
  },
  {
   "cell_type": "code",
   "execution_count": 5,
   "metadata": {},
   "outputs": [
    {
     "name": "stdout",
     "output_type": "stream",
     "text": [
      "A =  [[7452 1050 8608 1157]\n",
      " [3652 3175 1384 6425]\n",
      " [8434  204 7797 3573]\n",
      " [7642 7533  566 9293]]\n",
      "Q * R =  [[7452. 1050. 8608. 1157.]\n",
      " [3652. 3175. 1384. 6425.]\n",
      " [8434.  204. 7797. 3573.]\n",
      " [7642. 7533.  566. 9293.]]\n",
      "Q =  [[ 0.52905388 -0.31446399  0.74287648 -0.26334183]\n",
      " [ 0.25927332  0.28476492  0.25073724  0.88815377]\n",
      " [ 0.59877085 -0.51828775 -0.58984596  0.15790194]\n",
      " [ 0.54254291  0.74256256 -0.19325401 -0.34190778]]\n",
      "R =  [[14085.52192856  5587.82432055  9888.62569001  9459.20589068]\n",
      " [    0.          6061.93445714 -5933.59056943  6514.57147057]\n",
      " [    0.             0.          2033.29041635 -1432.93427866]\n",
      " [    0.             0.             0.          2788.53614384]]\n",
      "Q * Tranpose(Q) =  [[ 1.00000000e+00  3.60822483e-16  1.17961196e-16 -1.52655666e-16]\n",
      " [ 3.60822483e-16  1.00000000e+00  4.44089210e-16 -2.77555756e-16]\n",
      " [ 1.17961196e-16  4.44089210e-16  1.00000000e+00 -2.01227923e-16]\n",
      " [-1.52655666e-16 -2.77555756e-16 -2.01227923e-16  1.00000000e+00]]\n"
     ]
    }
   ],
   "source": [
    "def gram_schmidt(A,verbose=False):\n",
    "    m = A.shape[0]\n",
    "    n = A.shape[1]\n",
    "    R=np.zeros([m,n])\n",
    "    Q=np.zeros([m,m])\n",
    "    R[0,0]=np.linalg.norm(A[:,0])\n",
    "    if R[0, 0] == 0:\n",
    "        print (\"cannot complete Gram_Schimidt decomposition\")\n",
    "    else:\n",
    "        Q[:,0]=A[:,0]/R[0,0]\n",
    "    for i in range(1,n):\n",
    "        Q[:,i]=A[:,i]\n",
    "        for j in range(i):\n",
    "            R[j,i]=np.dot(Q[:,j].T,Q[:,i])\n",
    "            Q[:,i]-=R[j,i]*Q[:,j]\n",
    "        R[i,i]=np.linalg.norm(Q[:,i])\n",
    "        if R[i,i]==0:\n",
    "            print(\"cannot complete Gram_Schimidt decomposition\")\n",
    "        else:\n",
    "            Q[:, i] = Q[:, i] / R[i, i]\n",
    "    return  Q,R\n",
    "\n",
    "A = np.random.randint(0,10000,(4,4))\n",
    "print(\"A = \", A)\n",
    "\n",
    "Q, R  = gram_schmidt(A)\n",
    "print (\"Q * R = \", np.dot(Q, R))\n",
    "\n",
    "print(\"Q = \", Q)\n",
    "print(\"R = \", R)\n",
    "print(\"Q * Tranpose(Q) = \", np.dot(Q, np.transpose(Q)))\n"
   ]
  },
  {
   "cell_type": "markdown",
   "metadata": {},
   "source": [
    "## An Engineering Application\n",
    "\n",
    "This example gives the Chebyshev polynomials as a function of cos. These polynomials are simular to the Legendre polynomials but start with the set of functions: $\\{cos(x), cos(2x), ... cos(nx)\\}$. The Gram-Schmidt Orthonormalization will find the orthonormal functions which span this set.\n"
   ]
  },
  {
   "cell_type": "code",
   "execution_count": 6,
   "metadata": {},
   "outputs": [
    {
     "data": {
      "text/plain": [
       "<matplotlib.legend.Legend at 0x7f34d7526ac8>"
      ]
     },
     "execution_count": 6,
     "metadata": {},
     "output_type": "execute_result"
    },
    {
     "data": {
      "image/png": "[encoded data removed]",
      "text/plain": [
       "<matplotlib.figure.Figure at 0x7f35140dcf28>"
      ]
     },
     "metadata": {
      "needs_background": "light"
     },
     "output_type": "display_data"
    }
   ],
   "source": [
    "def norm(vector,t):\n",
    "    return np.sqrt(np.trapz(vector*vector,t))\n",
    "\n",
    "def inner(vector1,vector2,t):\n",
    "    return np.trapz(vector1*vector2,t)\n",
    "\n",
    "N = 100000\n",
    "t = np.linspace(-1,1,N)\n",
    "p = np.zeros((N,5))\n",
    "for kk in range(5):\n",
    "    p[:,kk] = np.cos(t*kk)\n",
    "    \n",
    "e1 = p[:,0]/norm(p[:,0],t)\n",
    "q2 = p[:,1]-inner(p[:,1],e1,t)*e1\n",
    "e2 = q2/norm(q2,t)\n",
    "q3 = p[:,2]-inner(p[:,2],e2,t)*e2-inner(p[:,2],e1,t)*e1\n",
    "e3 = q3/norm(q3,t)\n",
    "q4 = p[:,3]-inner(p[:,3],e3,t)*e3-inner(p[:,3],e2,t)*e2-inner(p[:,3],e1,t)*e1\n",
    "e4 = q4/norm(q4,t)\n",
    "q5 = p[:,4]-inner(p[:,4],e4,t)*e4-inner(p[:,4],e3,t)*e3-inner(p[:,4],e2,t)*e2-inner(p[:,4],e1,t)*e1\n",
    "e5 = q5/norm(q5,t)\n",
    "\n",
    "plt.plot(t,e1,label='e_1')\n",
    "plt.plot(t,e2,label='e_2')\n",
    "plt.plot(t,e3,label='e_3')\n",
    "plt.plot(t,e4,label='e_4')\n",
    "plt.plot(t,e5,label='e_5')\n",
    "plt.grid()\n",
    "plt.legend()\n"
   ]
  },
  {
   "cell_type": "markdown",
   "metadata": {},
   "source": [
    "The Chebyshev and Legendre polynomials are important in many physics applications. One major example is shown in quantum phyisics where these polynomials appear as solutions to the Schrodinger equation. These polynomials allow for calculations of the wavefunctions for the hydrogen atom and for determining electrical potential in spherical coordinates."
   ]
  },
  {
   "cell_type": "code",
   "execution_count": null,
   "metadata": {},
   "outputs": [],
   "source": []
  }
 ],
 "metadata": {
  "kernelspec": {
   "display_name": "Python 3",
   "language": "python",
   "name": "python3"
  },
  "language_info": {
   "codemirror_mode": {
    "name": "ipython",
    "version": 2
   },
   "file_extension": ".py",
   "mimetype": "text/x-python",
   "name": "python",
   "nbconvert_exporter": "python",
   "pygments_lexer": "ipython2",
   "version": "2.7.15"
  }
 },
 "nbformat": 4,
 "nbformat_minor": 2
}

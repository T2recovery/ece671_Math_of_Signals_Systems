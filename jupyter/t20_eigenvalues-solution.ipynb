{
 "cells": [
  {
   "cell_type": "markdown",
   "metadata": {},
   "source": [
    "## Homework Problem - The Trillion Dollar Eigenvector\n",
    "by Curtis Johnson"
   ]
  },
  {
   "cell_type": "markdown",
   "metadata": {},
   "source": [
    "Let the diagram below represent the entire internet where each circle represents a webpage. Outgoing arrows represent links to external websites and incoming arrows represent websites that link to your website (e.g. an example to illustrate).\n",
    "\n",
    "![](4SiteInternet.png)\n",
    "\n",
    "Each website's relative importance can be written as a function of how many websites link to it (e.g. if website 1 is linked to by website 2 and website 3, the relative importance of website 1 ($x_1$) can be written as $x_1 = x_2 + x_3$). \n",
    "\n",
    "You want to rank all of these websites by their relative importance in order to place ads where they are most likely to be seen (i.e. place ads in the most important websites)."
   ]
  },
  {
   "cell_type": "markdown",
   "metadata": {},
   "source": [
    "a) Find the probability matrix $P$ (also known as a [left stochastic matrix](https://en.wikipedia.org/wiki/Stochastic_matrix)) that describes the probability from moving from each webpage to any other webpage. NOTE: Because this matrix contains probabilities, make sure that each column sum is equal to 1. Row sums do not need to be 1."
   ]
  },
  {
   "cell_type": "markdown",
   "metadata": {},
   "source": [
    "First, we write out the relative importance of each website. Remember that the relative importance of a website is how many pages link to it.\n",
    "\n",
    "$$\n",
    "\\begin{align}\n",
    "x_1 &= x_3 + x_4\\\\\n",
    "x_2 &= x_1\\\\\n",
    "x_3 &= x_1 + x_2 + x_4\\\\\n",
    "x_4 &= x_1 + x_2\n",
    "\\end{align}\n",
    "$$\n",
    "\n",
    "Putting this into matrix form, we get the following:\n",
    "\n",
    "$$\\begin{pmatrix}\n",
    "0 & 0 & 1 & 1\\\\ \n",
    "1 & 0 & 0 & 0\\\\ \n",
    "1 & 1 & 0 & 1\\\\ \n",
    "1 & 1 & 0 & 0\n",
    "\\end{pmatrix}\n",
    "\\begin{pmatrix}\n",
    "x_1\\\\\n",
    "x_2\\\\ \n",
    "x_3\\\\ \n",
    "x_4\n",
    "\\end{pmatrix}\n",
    "= \n",
    "\\begin{pmatrix}\n",
    "x_1\\\\ \n",
    "x_2\\\\ \n",
    "x_3\\\\\n",
    "x_4\n",
    "\\end{pmatrix}$$\n",
    "\n",
    "Then $P$ is\n",
    "$$\n",
    "\\begin{pmatrix}\n",
    "0 & 0 & 1 & 1/2\\\\ \n",
    "1/3 & 0 & 0 & 0\\\\ \n",
    "1/3 & 1/2 & 0 & 1/2\\\\ \n",
    "1/3 & 1/2 & 0 & 0\n",
    "\\end{pmatrix}\n",
    "$$\n",
    "\n",
    "where each column sum is 1. \n"
   ]
  },
  {
   "cell_type": "markdown",
   "metadata": {},
   "source": [
    "b) Show that $\\lambda=1$ is an eigenvalue of any 4x4 left stochastic matrix $A$ of the same form as $P$ (i.e. column sum is 1). (Turns out this is the case for any left stochastic matrix, but the algebra to prove it gets really hairy.)"
   ]
  },
  {
   "cell_type": "markdown",
   "metadata": {},
   "source": [
    "Suppose $\\lambda$ is a valid eigenvalue of $A$, then the following must hold for some cooresponding eigenvector $\\boldsymbol{v}$.\n",
    "\n",
    "$$ A \\boldsymbol{v} = \\lambda \\boldsymbol{v}$$\n",
    "\n",
    "$$\n",
    "\\implies \\lambda \\boldsymbol{v} - A \\boldsymbol{v} = \\left(\\lambda I - A\\right)\\boldsymbol{v} = 0\n",
    "$$\n",
    "\n",
    "which implies that if $\\boldsymbol{v}$ is a valid eigenvector associated with $\\lambda$, $ x\\in \\mathcal{N}(\\lambda I  - A)$\n",
    "\n",
    "$$\n",
    "\\implies det(\\lambda I - A) = 0.\n",
    "$$\n",
    "\n",
    "Carrying out the subtraction we get\n",
    "\n",
    "$$ \n",
    "\\begin{pmatrix}\n",
    "\\lambda & 0 & 0 & 0\\\\ \n",
    "0 & \\lambda & 0 & 0\\\\ \n",
    "0 & 0 & \\lambda & 0\\\\ \n",
    "0 & 0 & 0 & \\lambda\n",
    "\\end{pmatrix}\n",
    "- \n",
    "\\begin{pmatrix}\n",
    "0 & a_{12} & a_{13} & a_{14}\\\\ \n",
    "a_{21} & 0 & a_{23} & a_{24}\\\\ \n",
    "a_{31} & a_{32} & 0 & a_{34}\\\\ \n",
    "a_{41} & a_{42} & a_{43} & 0\\\\ \n",
    "\\end{pmatrix}\n",
    "= \n",
    "\\begin{pmatrix}\n",
    "\\lambda & -a_{12} & -a_{13} & -a_{14}\\\\ \n",
    "-a_{21} & \\lambda & -a_{23} & -a_{24}\\\\ \n",
    "-a_{31} & -a_{32} & \\lambda & -a_{34}\\\\ \n",
    "-a_{41} & -a_{42} & -a_{43} & \\lambda\\\\ \n",
    "\\end{pmatrix}\n",
    "$$\n",
    "\n",
    "Now, it can be shown that if $\\lambda = 1$, the sum of each column = 0.\n",
    "\n",
    "$$ \\implies det\\left(I - A \\right) = \\boldsymbol{0}$$.\n",
    "\n",
    "Therefore, $\\lambda = 1$ is a valid eigenvalue. \n"
   ]
  },
  {
   "cell_type": "markdown",
   "metadata": {},
   "source": [
    "c) Find the probability vector $\\boldsymbol{x} = [x_1, x_2, x_3, x_4]^T$ that ranks each of the webpages in the internet by their relative importance. HINT: This is an eigenvector problem."
   ]
  },
  {
   "cell_type": "code",
   "execution_count": 12,
   "metadata": {},
   "outputs": [
    {
     "name": "stdout",
     "output_type": "stream",
     "text": [
      "eigenvalues: \n",
      " [ 1.        +0.j         -0.36062333+0.41097555j -0.36062333-0.41097555j\n",
      " -0.27875333+0.j        ]\n",
      "eigenvectors: \n",
      " [[ 0.72101012+0.j         -0.75521571+0.j         -0.75521571-0.j\n",
      "   0.50648562+0.j        ]\n",
      " [ 0.24033671+0.j          0.3036721 +0.34607247j  0.3036721 -0.34607247j\n",
      "  -0.60565568+0.j        ]\n",
      " [ 0.54075759+0.j          0.09315321-0.2746779j   0.09315321+0.2746779j\n",
      "  -0.38153917+0.j        ]\n",
      " [ 0.36050506+0.j          0.3583904 -0.07139457j  0.3583904 +0.07139457j\n",
      "   0.48070923+0.j        ]]\n"
     ]
    }
   ],
   "source": [
    "import numpy as np\n",
    "\n",
    "P = np.array([[0,0,1,0.5],[1/3, 0, 0, 0],[1/3,1/2,0,1/2],[1/3,1/2,0,0]])\n",
    "\n",
    "[eigvals, eigvecs] = np.linalg.eig(P)\n",
    "\n",
    "print(\"eigenvalues: \\n\", eigvals)\n",
    "print('eigenvectors: \\n', eigvecs)\n"
   ]
  },
  {
   "cell_type": "code",
   "execution_count": 13,
   "metadata": {},
   "outputs": [
    {
     "name": "stdout",
     "output_type": "stream",
     "text": [
      "[0.72101012 0.24033671 0.54075759 0.36050506]\n",
      "PageRank: \n",
      " [0.38709677 0.12903226 0.29032258 0.19354839]\n"
     ]
    }
   ],
   "source": [
    "#get eigenvector corresponding to eigenvalue of 1 @ index 0\n",
    "prob_vec = eigvec[:,0]\n",
    "print(np.real(prob_vec))\n",
    "\n",
    "# normalize the vector to ensure total probability = 1\n",
    "answer = np.real(prob_vec/np.sum(prob_vec))\n",
    "\n",
    "print(\"PageRank: \\n\", answer)"
   ]
  },
  {
   "cell_type": "markdown",
   "metadata": {},
   "source": [
    "Therefore ads should be placed according to the probability above. (38.7% on website 1, etc)"
   ]
  }
 ],
 "metadata": {
  "kernelspec": {
   "display_name": "Python 3",
   "language": "python",
   "name": "python3"
  },
  "language_info": {
   "codemirror_mode": {
    "name": "ipython",
    "version": 3
   },
   "file_extension": ".py",
   "mimetype": "text/x-python",
   "name": "python",
   "nbconvert_exporter": "python",
   "pygments_lexer": "ipython3",
   "version": "3.8.5"
  }
 },
 "nbformat": 4,
 "nbformat_minor": 4
}

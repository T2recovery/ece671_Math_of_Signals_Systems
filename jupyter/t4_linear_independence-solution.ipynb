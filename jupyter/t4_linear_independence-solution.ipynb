{
 "cells": [
  {
   "cell_type": "code",
   "execution_count": 1,
   "metadata": {},
   "outputs": [
    {
     "name": "stdout",
     "output_type": "stream",
     "text": [
      "Does the equality w = 2v+u holds? Answer: True\n"
     ]
    }
   ],
   "source": [
    "# Import Numpy library\n",
    "import numpy as np\n",
    "# Define three column vectors\n",
    "v = np.array([1, -1, 2]).reshape(-1,1)\n",
    "u = np.array([0, 3, 1]).reshape(-1,1)\n",
    "w = np.array([2, 1, 5]).reshape(-1,1)\n",
    "# Check the linear dependency with writing the equality\n",
    "print('Does the equality w = 2v+u holds? Answer:', np.all(w == 2*v+u))"
   ]
  },
  {
   "cell_type": "code",
   "execution_count": null,
   "metadata": {},
   "outputs": [],
   "source": []
  }
 ],
 "metadata": {
  "kernelspec": {
   "display_name": "Python 3",
   "language": "python",
   "name": "python3"
  },
  "language_info": {
   "codemirror_mode": {
    "name": "ipython",
    "version": 3
   },
   "file_extension": ".py",
   "mimetype": "text/x-python",
   "name": "python",
   "nbconvert_exporter": "python",
   "pygments_lexer": "ipython3",
   "version": "3.6.5"
  }
 },
 "nbformat": 4,
 "nbformat_minor": 2
}

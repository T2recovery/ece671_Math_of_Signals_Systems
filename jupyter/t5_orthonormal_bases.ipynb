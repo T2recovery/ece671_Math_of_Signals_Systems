{
 "cells": [
  {
   "cell_type": "markdown",
   "metadata": {
    "ein.tags": "worksheet-0",
    "slideshow": {
     "slide_type": "-"
    }
   },
   "source": [
    "# Orthonormal Bases for Vector Spaces\n",
    "\n",
    "### Taylor Simons\n",
    "\n",
    "### Simple Overview\n",
    "\n",
    "Orthonormal bases are special types of bases that are mathematically convenient. Bases, in general, help us transform vectors of data into more useful terms. Using an orthonormal basis instead of an non-orthonormal basis can simplify calculations. To understand orthonormal bases, let's first look at vector space bases in general.\n",
    "\n",
    "#### Vector Space Bases\n",
    "\n",
    "A vector space basis is a set of vectors that act as \"build blocks\" to describe every vector in the space. These basis vectors can be combined to represent every possible vector in the entire vector space. Similarly, every vector in the space can be broken down into a unique combination of these basis vectors. In more technical terms, the basis vectors span the vector space and are linearly independent.\n",
    "\n",
    "Any vector in the vector space can be described in terms of a basis for that space. Since every vector can be formed as a linear combination of the basis vectors, vectors can be represented as a tuple of the coefficients of in the linear combination. For example, let $B = \\{\\vec{b}_1,\\vec{b}_2,\\dots,\\vec{b}_n,\\}$\n",
    "be a basis for $\\mathbb{R}^n$. Then $ v = c_1\\vec{b}_1 + c_2\\vec{b}_1 + \\dots + c_n\\vec{b}_n$. This combination of coefficients is unique for every vector $v$. Thus every vector in $\\mathbb{R}^n$ can be described uniquely using the coefficients for that basis. \n",
    "\n",
    "The coefficients can be formed into a vector, making a coordinate vector: $[v]_B \\begin{bmatrix}c_1\\\\c_2\\\\\\vdots\\\\c_n\\end{bmatrix}$. These coordinate vectors can be used in place of the original vectors, making analysis and computations more convenient. However, relationship between the original vectors do not always remain the same between the coordinate vectors. To ensure that these relationship are preserved, we can use special types of bases, orthonormal bases.\n",
    "\n",
    "#### Orthonormal Bases\n",
    "\n",
    "As the name suggests, orthonormal bases are defined as basis with vectors that are both __normalized__ and __orthogonal__ to each other. For a vector to be considered normalized, it must have a norm of one. Vectors in an inner product space are orthogonal to each other if their inner product is zero. In other words, if the basis $B = \\{\\vec{b}_1,\\vec{b}_2,\\dots,\\vec{b}_n,\\}$ then $\\|\\vec{b}_i\\| = 1 $ for each $i$ (normalized) and $\\langle \\vec{b}_i,\\vec{b}_j \\rangle = 0$ for every $i$ and $j$ where $i\\neq j$ (orthogonal).\n",
    "\n",
    "Due to these properties, coordinate vectors of orthonormal basis preserve the metric and properties of the original vectors. This means that metrics like angle and distance are the same between coordinate vectors as they are in the original vectors. This way we can use the convenience of a new basis coordinate system without sacrificing meaningful metrics.\n",
    "\n",
    "### Formal Definition\n",
    "\n",
    "Let $V$ be an inner product space. Let $B$ be the set vectors $\\{\\vec{v}_1,\\vec{v}_2,\\dots,\\vec{v}_n\\}$. $B$ is an _orthonormal basis_ of $V$ if \n",
    "- $B \\subset V,$\n",
    "- $\\text{span}(B) =V$\n",
    "- $ B \\text{ is }\\text{lin. indep.}$\n",
    "- $ \\langle \\vec{v}_i,\\vec{v}_j \\rangle = 0 \\mkern20mu \\forall i,j \\text{ if } i \\neq j$\n",
    "- $ \\|\\vec{v}_i\\| = 1 \\mkern20mu \\forall i$\n",
    "\n",
    "### Metric Preservation\n",
    "\n",
    "First, let us look at an example that demonstrates how coordinate vectors of orthonormal bases preserve distance and angle measure. Let us take two random vectors in $\\mathbb{R}^2$."
   ]
  },
  {
   "cell_type": "code",
   "execution_count": 1,
   "metadata": {},
   "outputs": [
    {
     "name": "stdout",
     "output_type": "stream",
     "text": [
      "v_1:\n",
      "[[0.]\n",
      " [0.]]\n",
      "v_2:\n",
      "[[0.]\n",
      " [0.]]\n"
     ]
    }
   ],
   "source": [
    "import numpy as np\n",
    "import numpy.linalg as la\n",
    "dim = 2\n",
    "v_1 = np.random.rand(dim,1) * np.random.randint(-10,10)\n",
    "v_2 = np.random.rand(dim,1) * np.random.randint(-10,10)\n",
    "\n",
    "print('v_1:')\n",
    "print(v_1)\n",
    "print('v_2:')\n",
    "print(v_2)"
   ]
  },
  {
   "cell_type": "markdown",
   "metadata": {},
   "source": [
    "Now let us plot these two vectors:"
   ]
  },
  {
   "cell_type": "code",
   "execution_count": 2,
   "metadata": {},
   "outputs": [
    {
     "data": {
      "image/png": "[encoded data removed]",
      "text/plain": [
       "<Figure size 432x288 with 1 Axes>"
      ]
     },
     "metadata": {
      "needs_background": "light"
     },
     "output_type": "display_data"
    }
   ],
   "source": [
    "%matplotlib inline\n",
    "import matplotlib.pyplot as plt\n",
    "\n",
    "def display_vectors(vecs,colors=None):\n",
    "    x,y = zip(*vecs)\n",
    "    plt.ylim([-10,10])\n",
    "    plt.xlim([-10,10])\n",
    "    x=np.array(x)\n",
    "    y=np.array(y)\n",
    "    orig_x,orig_y = x*0,y*0\n",
    "    plt.quiver(orig_x,orig_y,x,y,color=colors, angles='xy', scale_units='xy', scale=1)\n",
    "    plt.show()\n",
    "    \n",
    "display_vectors([v_1,v_2],['b','b'])"
   ]
  },
  {
   "cell_type": "markdown",
   "metadata": {},
   "source": [
    "Using Numpy we can produce an orthonormal basis."
   ]
  },
  {
   "cell_type": "code",
   "execution_count": 3,
   "metadata": {},
   "outputs": [
    {
     "name": "stdout",
     "output_type": "stream",
     "text": [
      "b_1: [-0.13549454  0.99077809]\n",
      "b_2: [0.99077809 0.13549454]\n"
     ]
    },
    {
     "data": {
      "image/png": "[encoded data removed]",
      "text/plain": [
       "<Figure size 432x288 with 1 Axes>"
      ]
     },
     "metadata": {
      "needs_background": "light"
     },
     "output_type": "display_data"
    }
   ],
   "source": [
    "from scipy.stats import ortho_group\n",
    "B = ortho_group.rvs(2)\n",
    "b_1 = B[:,0]\n",
    "b_2 = B[:,1]\n",
    "print('b_1:',b_1)\n",
    "print('b_2:',b_2)\n",
    "display_vectors([b_1,b_2],['g','g'])"
   ]
  },
  {
   "cell_type": "markdown",
   "metadata": {},
   "source": [
    "Another convenient property of an orthonormal basis is that the change of basis computation is rather simple. Since $B\\vec{c} = \\vec{v}$ where $B$ is the basis matrix, $\\vec{c}$ is the coordinate vector and $\\vec{v}$ is the original vector, we can multiply both side by $B^{-1}$ to solve for $\\vec{c}$: $\\vec{c} =B^{-1}\\vec{v}$. If $B$ is orthonormal then, $B^{-1}=B^H$ and $\\vec{c} =B^H\\vec{v}$. This is demonstrated below. The blue vectors come from the standard basis for $\\mathbb{R}^n$ and the red vectors are the coordinate vectors of the generated orthonormal basis."
   ]
  },
  {
   "cell_type": "code",
   "execution_count": 4,
   "metadata": {},
   "outputs": [
    {
     "name": "stdout",
     "output_type": "stream",
     "text": [
      "vb_1:\n",
      "[[0.]\n",
      " [0.]]\n",
      "vb_2:\n",
      "[[0.]\n",
      " [0.]]\n"
     ]
    },
    {
     "data": {
      "image/png": "[encoded data removed]",
      "text/plain": [
       "<Figure size 432x288 with 1 Axes>"
      ]
     },
     "metadata": {
      "needs_background": "light"
     },
     "output_type": "display_data"
    }
   ],
   "source": [
    "vb_1 = np.matmul(B.T,v_1)\n",
    "vb_2 = np.matmul(B.T,v_2)\n",
    "print('vb_1:')\n",
    "print(vb_1)\n",
    "print('vb_2:')\n",
    "print(vb_2)\n",
    "display_vectors([v_1,v_2,vb_1,vb_2],['b','b','r','r'])"
   ]
  },
  {
   "cell_type": "markdown",
   "metadata": {},
   "source": [
    "We can see the angle and distance between the two vectors are preserved between the two pairs."
   ]
  },
  {
   "cell_type": "markdown",
   "metadata": {},
   "source": [
    "### Data Analysis\n",
    "\n",
    "We can use a orthonormal basis representation to help better understand noise data. If collected data follows a linear trend, an orthonormal coordinate representation aligned with that trend gives us a convenient way to view the error.\n",
    "\n",
    "Let's take a look at noisy data that follows a linear trend in $\\mathbb{R}^2$."
   ]
  },
  {
   "cell_type": "code",
   "execution_count": 5,
   "metadata": {},
   "outputs": [
    {
     "name": "stdout",
     "output_type": "stream",
     "text": [
      "[[-3.77064001 -4.40437111]\n",
      " [ 2.86633351  3.16505991]\n",
      " [ 1.40023586 -0.42610358]\n",
      " [ 1.55260185  2.4167596 ]\n",
      " [ 4.39737559  5.48091544]\n",
      " [-1.99989858 -1.50939927]\n",
      " [-6.58999055 -6.53415212]\n",
      " [-5.00409261 -3.75594483]\n",
      " [ 1.01811914 -1.89735322]\n",
      " [ 0.34298744  2.16772222]]\n"
     ]
    },
    {
     "data": {
      "image/png": "[encoded data removed]",
      "text/plain": [
       "<Figure size 432x288 with 1 Axes>"
      ]
     },
     "metadata": {
      "needs_background": "light"
     },
     "output_type": "display_data"
    }
   ],
   "source": [
    "import random\n",
    "\n",
    "theta = np.radians(45)\n",
    "c, s = np.cos(theta), np.sin(theta)\n",
    "B = np.array(((c,-s), (s, c)))\n",
    "n = 1000\n",
    "x = lin = np.linspace(-9,9,n)\n",
    "line = np.stack((x,x*0),axis=-1)\n",
    "line = np.matmul(B,line.T).T\n",
    "noise = np.random.normal(0, 1, line.shape)\n",
    "data = line + np.random.normal(0, 1, line.shape)\n",
    "data = data[np.random.choice(range(n),10,replace=True)]\n",
    "print(data)\n",
    "plt.scatter(data[:,0],data[:,1])\n",
    "plt.plot(line[:,0],line[:,1])\n",
    "\n",
    "end_p = 15\n",
    "plt.ylim([-end_p,end_p])\n",
    "plt.xlim([-end_p,end_p])\n",
    "display_vectors([B[:,0],B[:,1]],['r','r'])\n",
    "plt.show()"
   ]
  },
  {
   "cell_type": "markdown",
   "metadata": {},
   "source": [
    "Each point lies close to the solid line with some noise. From this raw data, it is not trivial to calculate the error of each point. However, if we represent this data using an orthonormal basis that is aligned with the fitted line, finding the error for each point becomes trivial. In our case, the rotation matrix used to produce the data is the basis.\n",
    "\n",
    "$$B = \\begin{bmatrix}\n",
    "cos(\\theta) && sin(\\theta)\\\\\n",
    "-sin(\\theta) && cos(\\theta)\n",
    "\\end{bmatrix}$$\n",
    "\n",
    "Below, all the data points are converted to their basis representations."
   ]
  },
  {
   "cell_type": "code",
   "execution_count": 6,
   "metadata": {},
   "outputs": [
    {
     "data": {
      "image/png": "[encoded data removed]",
      "text/plain": [
       "<Figure size 432x288 with 1 Axes>"
      ]
     },
     "metadata": {
      "needs_background": "light"
     },
     "output_type": "display_data"
    }
   ],
   "source": [
    "import math\n",
    "rotated_data = np.matmul(B.T,data.T).T\n",
    "new_line = np.matmul(B.T,line.T).T\n",
    "plt.scatter(rotated_data[:,0],rotated_data[:,1])\n",
    "plt.plot(new_line[:,0],new_line[:,1])\n",
    "\n",
    "plt.ylim([-end_p,end_p])\n",
    "plt.xlim([-end_p,end_p])\n",
    "display_vectors([[1,0],[0,1]],['r','r'])\n",
    "plt.show()"
   ]
  },
  {
   "cell_type": "markdown",
   "metadata": {},
   "source": [
    "In this form, the noise for each point is just the value of the $y$ component printed below."
   ]
  },
  {
   "cell_type": "code",
   "execution_count": 7,
   "metadata": {},
   "outputs": [
    {
     "name": "stdout",
     "output_type": "stream",
     "text": [
      "[[-5.7806058  -0.44811556]\n",
      " [ 4.26483919  0.21123147]\n",
      " [ 0.68881554 -1.291417  ]\n",
      " [ 2.8067624   0.61105181]\n",
      " [ 6.98500657  0.76617838]\n",
      " [-2.48144831  0.34683539]\n",
      " [-9.28017028  0.03948374]\n",
      " [-6.19428188  0.88257376]\n",
      " [-0.62171238 -2.06155028]\n",
      " [ 1.77533982  1.29028234]]\n"
     ]
    }
   ],
   "source": [
    "print(rotated_data)"
   ]
  },
  {
   "cell_type": "markdown",
   "metadata": {},
   "source": [
    "### Challenge Problem - GPS PRN Codes\n",
    "#### By Jacob Bartschi\n",
    "\n",
    "#### Background\n",
    "\n",
    "The GPS system is a system of satellite transmitters that transmit information to determine their location in space. Using knowledge of the satellites' positions and the time it takes for their signals to reach a receiver, the receiver can determine their own location. In order for GPS to use a small overall bandwidth, GPS signals are modulated by spread spectrum Psuerandom Noise (PRN) sequences. Each of the 32 GPS satellites use their own unique code of 1023 bits (for C/A codes). This allows each satellite to transmit at the same frequency without interfering with eachother. Navigation data used to determine satellite positions is modulated on top of the PRN sequences. Received GPS signals end up as a linear combination of each visible satellite's transmit signal.\n",
    "\n",
    "C/A PRN codes are generated using two 10 bit shift registers. The first shift register (G1) takes feedback from its 3rd and 10th positions and modulo 2 adds (an xor operation) them together to create the new input before shifting to the right. The second shift register (G2) takes feedback from positions 2,3,6,8,9, and 10 and modulo 2 adds them together to create the new input before shifting to the right.\n",
    "\n",
    "The code below shows how to create a shift register:"
   ]
  },
  {
   "cell_type": "code",
   "execution_count": 8,
   "metadata": {},
   "outputs": [],
   "source": [
    "def shift(register, feedback, output):\n",
    "    \"\"\"GPS Shift Register\n",
    "    \n",
    "    :param list feedback: which positions to use as feedback (1 indexed)\n",
    "    :param list output: which positions are output (1 indexed)\n",
    "    :returns output of shift register:\n",
    "    \n",
    "    \"\"\"\n",
    "    \n",
    "    # calculate output\n",
    "    out = [register[i-1] for i in output]\n",
    "    if len(out) > 1:\n",
    "        out = sum(out) % 2\n",
    "    else:\n",
    "        out = out[0]\n",
    "        \n",
    "    # modulo 2 add feedback\n",
    "    fb = sum([register[i-1] for i in feedback]) % 2\n",
    "    \n",
    "    # shift to the right\n",
    "    for i in reversed(range(len(register[1:]))):\n",
    "        register[i+1] = register[i]\n",
    "        \n",
    "    # put feedback in position 1\n",
    "    register[0] = fb\n",
    "    \n",
    "    return out"
   ]
  },
  {
   "cell_type": "markdown",
   "metadata": {},
   "source": [
    "To create the C/A PRN codes used by GPS, the output of the G1 register (the value getting shifted out of the register) is modulo 2 added to 2 of the values in the G2 register. For example, the PRN 1 Code taps positions 2 and 6 of the G2 register. Each code has predesignated G2 tap positions to create unique codes.\n",
    "\n",
    "The code below provides a function that generates the 1023 PRN code for a given GPS satellite:"
   ]
  },
  {
   "cell_type": "code",
   "execution_count": 9,
   "metadata": {},
   "outputs": [],
   "source": [
    "SV = {\n",
    "   1: [2,6],\n",
    "   2: [3,7],\n",
    "   3: [4,8],\n",
    "   4: [5,9],\n",
    "   5: [1,9],\n",
    "   6: [2,10],\n",
    "   7: [1,8],\n",
    "   8: [2,9],\n",
    "   9: [3,10],\n",
    "  10: [2,3],\n",
    "  11: [3,4],\n",
    "  12: [5,6],\n",
    "  13: [6,7],\n",
    "  14: [7,8],\n",
    "  15: [8,9],\n",
    "  16: [9,10],\n",
    "  17: [1,4],\n",
    "  18: [2,5],\n",
    "  19: [3,6],\n",
    "  20: [4,7],\n",
    "  21: [5,8],\n",
    "  22: [6,9],\n",
    "  23: [1,3],\n",
    "  24: [4,6],\n",
    "  25: [5,7],\n",
    "  26: [6,8],\n",
    "  27: [7,9],\n",
    "  28: [8,10],\n",
    "  29: [1,6],\n",
    "  30: [2,7],\n",
    "  31: [3,8],\n",
    "  32: [4,9],\n",
    "}\n",
    "\n",
    "def PRN(sv):\n",
    "    \"\"\"Build the CA code (PRN) for a given satellite ID\n",
    "    \n",
    "    :param int sv: satellite code (1-32)\n",
    "    :returns list: ca code for chosen satellite\n",
    "    \n",
    "    \"\"\"\n",
    "    \n",
    "    # init registers\n",
    "    G1 = [1 for i in range(10)]\n",
    "    G2 = [1 for i in range(10)]\n",
    "\n",
    "    ca = [] # stuff output in here\n",
    "    \n",
    "    # create sequence\n",
    "    for i in range(1023):\n",
    "        g1 = shift(G1, [3,10], [10])\n",
    "        g2 = shift(G2, [2,3,6,8,9,10], SV[sv]) # <- sat chosen here from table\n",
    "        \n",
    "        # modulo 2 add and append to the code\n",
    "        ca.append((g1 + g2) % 2)\n",
    "\n",
    "    # return C/A code!\n",
    "    return ca"
   ]
  },
  {
   "cell_type": "markdown",
   "metadata": {},
   "source": [
    "#### Problem\n",
    "##### Part A\n",
    "Show numerically that the 32 PRN codes form an orthogonal basis for recieved GPS signals.\n",
    "\n",
    "The following code is an example of how to generate all 32 PRN codes using the code listed previously:"
   ]
  },
  {
   "cell_type": "code",
   "execution_count": 10,
   "metadata": {},
   "outputs": [],
   "source": [
    "prn_codes = [PRN(1), PRN(2)]\n",
    "\n",
    "for i in range(33):\n",
    "    if i > 2:\n",
    "        prn_codes.append(PRN(i))"
   ]
  },
  {
   "cell_type": "markdown",
   "metadata": {},
   "source": [
    "Hint: The PRN codes are transmitted using a BPSK scheme, so a 1 in the code is +1V and a 0 is -1V.\n",
    "\n",
    "##### Part B\n",
    "The file gps_prn_hidden_code.mat (also provided as a .txt) contains signals modulated on top of four PRN codes (codes 1, 2, 3, and 4) and added together, as would be the case at the antenna of a GPS receiver. In this exercise, each code chip (1023 bits) represents one bit of transmitted data. Each signal contains 3 8-bit ascii symbols for a total of 24 bits of data and a total signal length of 1023 * 24 = 24552 bits. Seperate each of the four signals from the combined signal and parse the hidden word in each.\n",
    "\n",
    "Hint 1: The signals are all aligned in time and start at the beginning of their code chips, ie there are no unnecessary bits or need to find the start/end of the signals.\n",
    "\n",
    "Hint 2: The PRN codes are modulated where a data bit value of 1 is associated with the PRN code and a bit value of 0 is associated with the code * -1. For example if a PRN code was 1001, then a data bit of 1 is represented by 1001 and a data bit of 0 is represented by 0110.\n",
    "\n",
    "\n",
    "<details>\n",
    "<summary>Click here for Answers</summary>\n",
    "    Hidden word in PRN 1: cat <br/>\n",
    "    Hidden word in PRN 2: dog <br/>\n",
    "    Hidden word in PRN 3: byu <br/>\n",
    "    Hidden word in PRN 4: sky\n",
    "</details>\n",
    "\n",
    "A solution done in matlab is provided in gps_prn_hidden_code_solution.m"
   ]
  }
 ],
 "metadata": {
  "kernelspec": {
   "display_name": "Python 3",
   "language": "python",
   "name": "python3"
  },
  "language_info": {
   "codemirror_mode": {
    "name": "ipython",
    "version": 3
   },
   "file_extension": ".py",
   "mimetype": "text/x-python",
   "name": "python",
   "nbconvert_exporter": "python",
   "pygments_lexer": "ipython3",
   "version": "3.7.3"
  },
  "name": "orthonormal_basis.ipynb"
 },
 "nbformat": 4,
 "nbformat_minor": 2
}
